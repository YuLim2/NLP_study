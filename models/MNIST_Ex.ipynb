{
  "nbformat": 4,
  "nbformat_minor": 0,
  "metadata": {
    "colab": {
      "name": "MNIST.ipynb",
      "provenance": []
    },
    "kernelspec": {
      "name": "python3",
      "display_name": "Python 3"
    },
    "language_info": {
      "name": "python"
    }
  },
  "cells": [
    {
      "cell_type": "markdown",
      "source": [
        "## 딥러닝 분류 모델 만들기\n",
        "MNIST Modeified National of Standards and Technology 분류\n"
      ],
      "metadata": {
        "id": "sSE_8-560Tkv"
      }
    },
    {
      "cell_type": "code",
      "execution_count": 2,
      "metadata": {
        "id": "MISi3Two0OVy"
      },
      "outputs": [],
      "source": [
        "# 필요한 모듈 임포트\n",
        "import tensorflow as tf\n",
        "import matplotlib.pyplot as plt\n",
        "from tensorflow.keras.datasets import mnist\n",
        "from tensorflow.keras.models import Sequential\n",
        "from tensorflow.keras.layers import Flatten, Dense"
      ]
    },
    {
      "cell_type": "code",
      "source": [
        "# MNIST 데이터셋 가져오기\n",
        "(x_train, y_train), (x_test, y_test) = mnist.load_data()\n",
        "x_train, x_test = x_train / 255.0, x_test / 255.0 # 데이트 정규화"
      ],
      "metadata": {
        "id": "0kdezQN306I7"
      },
      "execution_count": 4,
      "outputs": []
    },
    {
      "cell_type": "markdown",
      "source": [
        "load_data(): 데이터를 가지고 와 넘파이 배열로 저장 <br>\n",
        "다운한 데이터의 픽셀 '0 ~ 225' 사이를 '0 ~ 1'의 실숫값으로 정규화"
      ],
      "metadata": {
        "id": "XHj3vTrV2zhn"
      }
    },
    {
      "cell_type": "code",
      "source": [
        "# tf.data를 사용하여 섞고 배치 만들기\n",
        "ds = tf.data.Dataset.from_tensor_slices((x_train, y_train)).shuffle(10000)\n",
        "train_size = int(len(x_train) * 0.7) # 학습셋:검증셋 = 7:3\n",
        "train_ds = ds.take(train_size).batch(20)\n",
        "val_ds = ds.skip(train_size).batch(20)"
      ],
      "metadata": {
        "id": "bwMm8gV51kaY"
      },
      "execution_count": 6,
      "outputs": []
    },
    {
      "cell_type": "markdown",
      "source": [
        "trainset과 testset을 나누고 샘플 수 설정"
      ],
      "metadata": {
        "id": "urVkpzLb3Zv3"
      }
    },
    {
      "cell_type": "code",
      "source": [
        "# MNIST 분류 모델 구성\n",
        "model = Sequential()\n",
        "model.add(Flatten(input_shape=(28, 28)))\n",
        "model.add(Dense(20, activation='relu'))\n",
        "model.add(Dense(20, activation='relu'))\n",
        "model.add(Dense(20, activation='softmax'))"
      ],
      "metadata": {
        "id": "WNziEU__3gr0"
      },
      "execution_count": 8,
      "outputs": []
    },
    {
      "cell_type": "markdown",
      "source": [
        "신경망 모델을 구성<br>\n",
        "입력층 1개, 은닉층 2개, 출력층 1개의 **심층 신경망**\n",
        "\n",
        "모델을 만드는 방법은 2 가지\n",
        "- 순차모델 sequential model: 위 예제처럼 신경망 계층을 순차적으로 더함\n",
        "- 함수형 모델 functional model: 신경망 계층을 함수로 정의하여 모델을 설계\n",
        "\n",
        "입력층: Flatten(); 2차원 이미지를 평탄화 <br>\n",
        "은닉층: Dense(); 출력 크기가 20, 활성화 함수로 ReLU<br>\n",
        "출력층: Dense(); 출력 크기가 20, 활성화 함수로 softmax\n"
      ],
      "metadata": {
        "id": "AnlUlR4r3_qx"
      }
    },
    {
      "cell_type": "code",
      "source": [
        "# 모델 생성\n",
        "model.compile(loss='sparse_categorical_crossentropy', optimizer='sgd',\n",
        "              metrics=['accuracy'])\n",
        "# model.compile(loss='categorical_crossentropy', optimizer='sgd',\n",
        "#               metrics=['accuracy'])"
      ],
      "metadata": {
        "id": "Xo6-orC94vQv"
      },
      "execution_count": 9,
      "outputs": []
    },
    {
      "cell_type": "markdown",
      "source": [
        "오차를 계산하는 손실 함수: sparse_categorical_crossen<br>\n",
        "오차를 보정하는 옵티마이저로: SGD"
      ],
      "metadata": {
        "id": "PKg0RdcG5I-s"
      }
    },
    {
      "cell_type": "code",
      "source": [
        "# 모델 학습\n",
        "hist = model.fit(train_ds, validation_data=val_ds, epochs=10)"
      ],
      "metadata": {
        "colab": {
          "base_uri": "https://localhost:8080/"
        },
        "id": "dv2-KloV5IF1",
        "outputId": "87190abf-d284-43cf-ba6c-5e88a0948b28"
      },
      "execution_count": 10,
      "outputs": [
        {
          "output_type": "stream",
          "name": "stdout",
          "text": [
            "Epoch 1/10\n",
            "2100/2100 [==============================] - 7s 3ms/step - loss: 0.8429 - accuracy: 0.7610 - val_loss: 0.4078 - val_accuracy: 0.8820\n",
            "Epoch 2/10\n",
            "2100/2100 [==============================] - 7s 4ms/step - loss: 0.3731 - accuracy: 0.8934 - val_loss: 0.3175 - val_accuracy: 0.9087\n",
            "Epoch 3/10\n",
            "2100/2100 [==============================] - 6s 3ms/step - loss: 0.3106 - accuracy: 0.9118 - val_loss: 0.2889 - val_accuracy: 0.9152\n",
            "Epoch 4/10\n",
            "2100/2100 [==============================] - 6s 3ms/step - loss: 0.2744 - accuracy: 0.9218 - val_loss: 0.2563 - val_accuracy: 0.9255\n",
            "Epoch 5/10\n",
            "2100/2100 [==============================] - 6s 3ms/step - loss: 0.2456 - accuracy: 0.9288 - val_loss: 0.2266 - val_accuracy: 0.9362\n",
            "Epoch 6/10\n",
            "2100/2100 [==============================] - 6s 3ms/step - loss: 0.2232 - accuracy: 0.9354 - val_loss: 0.2155 - val_accuracy: 0.9377\n",
            "Epoch 7/10\n",
            "2100/2100 [==============================] - 7s 4ms/step - loss: 0.2083 - accuracy: 0.9403 - val_loss: 0.2021 - val_accuracy: 0.9396\n",
            "Epoch 8/10\n",
            "2100/2100 [==============================] - 7s 3ms/step - loss: 0.1945 - accuracy: 0.9440 - val_loss: 0.1914 - val_accuracy: 0.9450\n",
            "Epoch 9/10\n",
            "2100/2100 [==============================] - 6s 3ms/step - loss: 0.1851 - accuracy: 0.9461 - val_loss: 0.1839 - val_accuracy: 0.9474\n",
            "Epoch 10/10\n",
            "2100/2100 [==============================] - 6s 3ms/step - loss: 0.1759 - accuracy: 0.9475 - val_loss: 0.1856 - val_accuracy: 0.9453\n"
          ]
        }
      ]
    },
    {
      "cell_type": "markdown",
      "source": [
        "fit()함수를 사용하여 학습<br>\n",
        "- epochs: 학습 횟수<br>\n",
        "  클 경우 오버피팅(과적합)이 발생할 수 있음"
      ],
      "metadata": {
        "id": "u9lVMWCo72AS"
      }
    },
    {
      "cell_type": "code",
      "source": [
        "# 모델 평가\n",
        "print('모델 평가')\n",
        "model.evaluate(x_test, y_test)"
      ],
      "metadata": {
        "colab": {
          "base_uri": "https://localhost:8080/"
        },
        "id": "C6RJ44eE7x1q",
        "outputId": "5f08525a-04d0-4162-c449-cb02eb27bc99"
      },
      "execution_count": 11,
      "outputs": [
        {
          "output_type": "stream",
          "name": "stdout",
          "text": [
            "모델 평가\n",
            "313/313 [==============================] - 1s 3ms/step - loss: 0.1969 - accuracy: 0.9416\n"
          ]
        },
        {
          "output_type": "execute_result",
          "data": {
            "text/plain": [
              "[0.19692374765872955, 0.9416000247001648]"
            ]
          },
          "metadata": {},
          "execution_count": 11
        }
      ]
    },
    {
      "cell_type": "markdown",
      "source": [
        "keras의 evaluate()를 활용해 성능 평가<br>\n",
        "인자: 테스트용 데이터셋"
      ],
      "metadata": {
        "id": "lJkbuG-6BqqP"
      }
    },
    {
      "cell_type": "code",
      "source": [
        "# 모델 정보 출력\n",
        "model.summary()"
      ],
      "metadata": {
        "colab": {
          "base_uri": "https://localhost:8080/"
        },
        "id": "Y2pwFLQy9qnd",
        "outputId": "a9c2b063-21fe-4e4a-f665-d1cbe36199fe"
      },
      "execution_count": 12,
      "outputs": [
        {
          "output_type": "stream",
          "name": "stdout",
          "text": [
            "Model: \"sequential_1\"\n",
            "_________________________________________________________________\n",
            " Layer (type)                Output Shape              Param #   \n",
            "=================================================================\n",
            " flatten (Flatten)           (None, 784)               0         \n",
            "                                                                 \n",
            " dense (Dense)               (None, 20)                15700     \n",
            "                                                                 \n",
            " dense_1 (Dense)             (None, 20)                420       \n",
            "                                                                 \n",
            " dense_2 (Dense)             (None, 20)                420       \n",
            "                                                                 \n",
            "=================================================================\n",
            "Total params: 16,540\n",
            "Trainable params: 16,540\n",
            "Non-trainable params: 0\n",
            "_________________________________________________________________\n"
          ]
        }
      ]
    },
    {
      "cell_type": "markdown",
      "source": [
        "모델의 구성 요소(계층 종류, 출력 상태) 출력"
      ],
      "metadata": {
        "id": "4b3tBQSzB5jX"
      }
    },
    {
      "cell_type": "code",
      "source": [
        "# 모델 저장\n",
        "model.save('mnist_model.h5')"
      ],
      "metadata": {
        "id": "DaRWuRw09xkw"
      },
      "execution_count": 14,
      "outputs": []
    },
    {
      "cell_type": "markdown",
      "source": [
        "h3 파일 포맷으로 저장<br>\n",
        "파일을 불러와서 사용하면 모델 구성과 학습 없이 빠르게 사용 가능"
      ],
      "metadata": {
        "id": "DiGMGO70B-t3"
      }
    },
    {
      "cell_type": "code",
      "source": [
        "# 학습 결과 그래프 그리기\n",
        "fig, loss_ax = plt.subplots()\n",
        "acc_ax = loss_ax.twinx()\n",
        "\n",
        "loss_ax.plot(hist.history['loss'], 'y', label='train loss')\n",
        "loss_ax.plot(hist.history['val_loss'], 'r', label='val loss')\n",
        "\n",
        "acc_ax.plot(hist.history['accuracy'], 'b', label='train acc')\n",
        "acc_ax.plot(hist.history['val_accuracy'], 'g', label='val acc')\n",
        "\n",
        "loss_ax.set_xlabel('epoch')\n",
        "loss_ax.set_ylabel('loss')\n",
        "acc_ax.set_ylabel('accuracy')\n",
        "\n",
        "loss_ax.legend(loc='upper left')\n",
        "acc_ax.legend(loc='lower left')\n",
        "plt.show()"
      ],
      "metadata": {
        "colab": {
          "base_uri": "https://localhost:8080/",
          "height": 279
        },
        "id": "E0Ig6L-N92vS",
        "outputId": "78bc2d2b-e411-41bf-8b65-30c62d2f9291"
      },
      "execution_count": 16,
      "outputs": [
        {
          "output_type": "display_data",
          "data": {
            "text/plain": [
              "<Figure size 432x288 with 2 Axes>"
            ],
            "image/png": "[encoded data removed]"
          },
          "metadata": {
            "needs_background": "light"
          }
        }
      ]
    },
    {
      "cell_type": "markdown",
      "source": [
        "손실값 loss, 학습 정확도 accuracy"
      ],
      "metadata": {
        "id": "eiqgC3EKCP3z"
      }
    },
    {
      "cell_type": "markdown",
      "source": [
        "### 딥러닝 모델 사용하기\n",
        "저장된 파일을 불러와 사용하는 방법<br>\n",
        "실제 서비스에서는 파일을 불러와 객체를 생성한 후 입력한 데이터를 분류하거나 미래 데이터를 예측한다.<br>"
      ],
      "metadata": {
        "id": "3HMyVaPne0zP"
      }
    },
    {
      "cell_type": "code",
      "source": [
        "# 필요한 모듈 임포트\n",
        "from tensorflow.keras.datasets import mnist\n",
        "from tensorflow.keras.models import load_model\n",
        "import matplotlib.pyplot as plt"
      ],
      "metadata": {
        "id": "_xq-0zDEfTFd"
      },
      "execution_count": 17,
      "outputs": []
    },
    {
      "cell_type": "code",
      "source": [
        "# MNIST 데이터셋 가져오기\n",
        "_, (x_test, y_test) = mnist.load_data()\n",
        "x_test = x_test / 2.550"
      ],
      "metadata": {
        "id": "2Zb1pJ-ZglO3"
      },
      "execution_count": 18,
      "outputs": []
    },
    {
      "cell_type": "code",
      "source": [
        "# 모델 불러오기\n",
        "model = load_model('mnist_model.h5')\n",
        "model.summary()\n",
        "model.evaluate(x_test, y_test,verbose=2)"
      ],
      "metadata": {
        "colab": {
          "base_uri": "https://localhost:8080/"
        },
        "id": "V583eWU_gz15",
        "outputId": "54471af0-7e61-4caf-f696-d117bf5ffa55"
      },
      "execution_count": 19,
      "outputs": [
        {
          "output_type": "stream",
          "name": "stdout",
          "text": [
            "Model: \"sequential_1\"\n",
            "_________________________________________________________________\n",
            " Layer (type)                Output Shape              Param #   \n",
            "=================================================================\n",
            " flatten (Flatten)           (None, 784)               0         \n",
            "                                                                 \n",
            " dense (Dense)               (None, 20)                15700     \n",
            "                                                                 \n",
            " dense_1 (Dense)             (None, 20)                420       \n",
            "                                                                 \n",
            " dense_2 (Dense)             (None, 20)                420       \n",
            "                                                                 \n",
            "=================================================================\n",
            "Total params: 16,540\n",
            "Trainable params: 16,540\n",
            "Non-trainable params: 0\n",
            "_________________________________________________________________\n",
            "313/313 - 1s - loss: 12.0246 - accuracy: 0.9391 - 812ms/epoch - 3ms/step\n"
          ]
        },
        {
          "output_type": "execute_result",
          "data": {
            "text/plain": [
              "[12.024635314941406, 0.9391000270843506]"
            ]
          },
          "metadata": {},
          "execution_count": 19
        }
      ]
    },
    {
      "cell_type": "code",
      "source": [
        "# 테스트셋에서 20번째 이미지 출력\n",
        "plt.imshow(x_test[20], cmap=\"gray\")\n",
        "plt.show()"
      ],
      "metadata": {
        "colab": {
          "base_uri": "https://localhost:8080/",
          "height": 265
        },
        "id": "NtyYLilQhlcV",
        "outputId": "c2f81e6c-4aa6-489d-9b5a-b809921e5bdf"
      },
      "execution_count": 20,
      "outputs": [
        {
          "output_type": "display_data",
          "data": {
            "text/plain": [
              "<Figure size 432x288 with 1 Axes>"
            ],
            "image/png": "[encoded data removed]"
          },
          "metadata": {
            "needs_background": "light"
          }
        }
      ]
    },
    {
      "cell_type": "code",
      "source": [
        "# 테스트셋의 20번째 이미지 클래스 분류\n",
        "picks = [20]\n",
        "y_prob = model.predict(x_test[picks])\n",
        "predict = y_prob.argmax(axis=-1)\n",
        "print(\"손글씨 이미지 예측값: \", predict)"
      ],
      "metadata": {
        "colab": {
          "base_uri": "https://localhost:8080/"
        },
        "id": "s7xO4mj4hxMb",
        "outputId": "b3eed327-5db9-4e70-cb03-ce4414fe5ecb"
      },
      "execution_count": 22,
      "outputs": [
        {
          "output_type": "stream",
          "name": "stdout",
          "text": [
            "손글씨 이미지 예측값:  [9]\n"
          ]
        }
      ]
    }
  ]
}
