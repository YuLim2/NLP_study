{
  "nbformat": 4,
  "nbformat_minor": 0,
  "metadata": {
    "colab": {
      "name": "RNN_Ex.ipynb",
      "provenance": []
    },
    "kernelspec": {
      "name": "python3",
      "display_name": "Python 3"
    },
    "language_info": {
      "name": "python"
    }
  },
  "cells": [
    {
      "cell_type": "markdown",
      "source": [
        "### sin 곡선 예측 RNN 모델 사용"
      ],
      "metadata": {
        "id": "zVA2ek9MVe0N"
      }
    },
    {
      "cell_type": "code",
      "execution_count": 2,
      "metadata": {
        "id": "3XP9XkCahIFY"
      },
      "outputs": [],
      "source": [
        "# 필요한 모듈 임포트\n",
        "import numpy as np\n",
        "import matplotlib.pyplot as plt\n",
        "\n",
        "from tensorflow.keras.models import Sequential\n",
        "from tensorflow.keras.layers import Flatten, Dense, LSTM, SimpleRNN"
      ]
    },
    {
      "cell_type": "code",
      "source": [
        "# time step만큼 시퀀스 데이터 분리\n",
        "def split_sequencce(sequence, step):\n",
        "  x, y = list(), list()\n",
        "\n",
        "  for i in range(len(sequence)):\n",
        "    end_idx = i + step\n",
        "    if end_idx > len(sequence) - 1:\n",
        "      break\n",
        "\n",
        "    seq_x, seq_y = sequence[i:end_idx], sequence[end_idx]\n",
        "    x.append(seq_x)\n",
        "    y.append(seq_y)\n",
        "\n",
        "  return np.array(x), np.array(y)"
      ],
      "metadata": {
        "id": "3kXRcsc9APn5"
      },
      "execution_count": 4,
      "outputs": []
    },
    {
      "cell_type": "code",
      "source": [
        "# sin 함수 학습 데이터\n",
        "x = [i for i in np.arange(start=-10, stop=10, step=0.1)]\n",
        "train_y = [np.sin(i) for i in x]"
      ],
      "metadata": {
        "id": "Ru7g6xX2Be8O"
      },
      "execution_count": 9,
      "outputs": []
    },
    {
      "cell_type": "markdown",
      "source": [
        "-10과 10 사이의 0.1 단위로 증가시켜 리스트에 저장"
      ],
      "metadata": {
        "id": "crm1q-SDKC9q"
      }
    },
    {
      "cell_type": "code",
      "source": [
        "# 하이퍼 파라미터\n",
        "n_timesteps = 15\n",
        "n_features = 1"
      ],
      "metadata": {
        "id": "9JfWQH6RCEqQ"
      },
      "execution_count": 10,
      "outputs": []
    },
    {
      "cell_type": "markdown",
      "source": [
        "n_timesteps: 입력 시퀀스 길이 <br>\n",
        "n_features: 입력 벡터의 차원 크기"
      ],
      "metadata": {
        "id": "dv2SOYKVKNx1"
      }
    },
    {
      "cell_type": "code",
      "source": [
        "# 시퀀스 나누기\n",
        "# train_x.shape => (samples, timesteps)\n",
        "# train_y.shape => (samples)\n",
        "train_x, train_y = split_sequencce(train_y, step=n_timesteps)\n",
        "print(\"shape x:{} / y:{}\".format(train_x.shape, train_y.shape))"
      ],
      "metadata": {
        "colab": {
          "base_uri": "https://localhost:8080/"
        },
        "id": "ciEEb83hCSuV",
        "outputId": "340a7ca0-15a5-4906-8d9b-4645345450e8"
      },
      "execution_count": 11,
      "outputs": [
        {
          "output_type": "stream",
          "name": "stdout",
          "text": [
            "shape x:(185, 15) / y:(185,)\n"
          ]
        }
      ]
    },
    {
      "cell_type": "markdown",
      "source": [
        "입력 시퀀스를 만들기 위하여 split_sequence() 함수 호출 - 리스트에서 n_timesteps만큼 나눠서 생성<br>\n",
        "\n"
      ],
      "metadata": {
        "id": "YKQcfWlTKzIc"
      }
    },
    {
      "cell_type": "code",
      "source": [
        "# RNN 입력 벡터 크기를 맞추기 위해 벡터 차원 크기 변경\n",
        "# reshape from [smaples, timesteps] into [samples, timesteps, features]\n",
        "train_x = train_x.reshape(train_x.shape[0], train_x.shape[1], n_features)\n",
        "print(\"train_x.shape = {}\".format(train_x.shape))\n",
        "print(\"train_y.shape = {}\".format(train_y.shape))"
      ],
      "metadata": {
        "colab": {
          "base_uri": "https://localhost:8080/"
        },
        "id": "BqdN9wp7DGS8",
        "outputId": "f16ea372-8688-4257-ecb0-88cc7cfe328f"
      },
      "execution_count": 13,
      "outputs": [
        {
          "output_type": "stream",
          "name": "stdout",
          "text": [
            "train_x.shape = (185, 15, 1)\n",
            "train_y.shape = (185,)\n"
          ]
        }
      ]
    },
    {
      "cell_type": "markdown",
      "source": [
        "RNN 계층을 이용하려면 3차원 텐서tenser 형태여야 한다.<br>\n",
        "그래서 2차원 train_x를 3차원으로 변환<br>"
      ],
      "metadata": {
        "id": "7XnPXQFkLp_X"
      }
    },
    {
      "cell_type": "code",
      "source": [
        "# RNN 모델 정의\n",
        "model = Sequential()\n",
        "model.add(SimpleRNN(units=10,\n",
        "                    return_sequences=False,\n",
        "                    input_shape=(n_timesteps, n_features)))\n",
        "model.add(Dense(1))\n",
        "model.compile(optimizer='adam', loss='mse')"
      ],
      "metadata": {
        "id": "wHlvb-daEANJ"
      },
      "execution_count": 14,
      "outputs": []
    },
    {
      "cell_type": "markdown",
      "source": [
        "SimpleRNN 계층은 Dense 계층 1개로 구성되어 있음<br>\n",
        "가장 간단한 RNN 계층\n",
        "인자\n",
        "- unit: 전체 뉴런 수\n",
        "- return_sequences: 과정 출력 여부\n",
        "- input_shape: one-to-many, many-to-many를 위해 생성\n",
        "\n",
        "손실함수: mse<br>\n",
        "옵티마이저: adam"
      ],
      "metadata": {
        "id": "PkT69MEnMJJX"
      }
    },
    {
      "cell_type": "code",
      "source": [
        "# 모델 학습\n",
        "np.random.seed(0)\n",
        "from tensorflow.keras.callbacks import EarlyStopping\n",
        "early_stopping = EarlyStopping(\n",
        "    monitor='loss',\n",
        "    patience=5,\n",
        "    mode='auto')\n",
        "history = model.fit(train_x, train_y, epochs=1000, callbacks=[early_stopping])"
      ],
      "metadata": {
        "id": "NI1WVBroE0qI"
      },
      "execution_count": null,
      "outputs": []
    },
    {
      "cell_type": "markdown",
      "source": [
        "인자\n",
        "- 데이터셋\n",
        "- 에포크값\n",
        "- 콜백 객체: 갑자기 종료되는 시점 반환"
      ],
      "metadata": {
        "id": "gTjtgIb1NzdO"
      }
    },
    {
      "cell_type": "code",
      "source": [
        "# loss 그래프 생성\n",
        "plt.plot(history.history['loss'], label='loss')\n",
        "plt.legend(loc=\"upper right\")\n",
        "plt.show()"
      ],
      "metadata": {
        "colab": {
          "base_uri": "https://localhost:8080/",
          "height": 265
        },
        "id": "c72BMknFF3Gh",
        "outputId": "8843df3a-7ca6-49ae-b999-7f71f7b64278"
      },
      "execution_count": 18,
      "outputs": [
        {
          "output_type": "display_data",
          "data": {
            "text/plain": [
              "<Figure size 432x288 with 1 Axes>"
            ],
            "image/png": "[encoded data removed]"
          },
          "metadata": {
            "needs_background": "light"
          }
        }
      ]
    },
    {
      "cell_type": "code",
      "source": [
        "# 테스트 데이터셋 생성\n",
        "test_x = np.arange(10, 20, 0.1)\n",
        "calc_y = np.cos(test_x) # 테스트 정답 데이터"
      ],
      "metadata": {
        "id": "QYxu6p8cGTGZ"
      },
      "execution_count": 20,
      "outputs": []
    },
    {
      "cell_type": "markdown",
      "source": [
        "calc_y 리스트에 전체 시퀀스값 저장<br>\n",
        "cos함수를 사용하여 학습 데이터에 주기적 차이를 줌"
      ],
      "metadata": {
        "id": "Z2JCvjabO2xA"
      }
    },
    {
      "cell_type": "code",
      "source": [
        "# RNN 모델 예측 및 로그 저장\n",
        "test_y = calc_y[:n_timesteps]\n",
        "for i in range(len(test_x) - n_timesteps):\n",
        "  net_input = test_y[i : i + n_timesteps]\n",
        "  net_input = net_input.reshape((1, n_timesteps, n_features))\n",
        "  train_y = model.predict(net_input, verbose=0)\n",
        "  print(test_y.shape, train_y.shape, i, i + n_timesteps)\n",
        "  test_y = np.append(test_y, train_y)"
      ],
      "metadata": {
        "id": "JxzXfP5UGnFL"
      },
      "execution_count": null,
      "outputs": []
    },
    {
      "cell_type": "code",
      "source": [
        "# 예측 결과 그래프 그리기\n",
        "plt.plot(test_x, calc_y, label=\"ground truth\", color=\"orange\")\n",
        "plt.plot(test_x, test_y, label=\"predicitions\", color=\"blue\")\n",
        "\n",
        "plt.legend(loc='upper left')\n",
        "plt.ylim(-2, 2)\n",
        "plt.show()"
      ],
      "metadata": {
        "colab": {
          "base_uri": "https://localhost:8080/",
          "height": 269
        },
        "id": "pTjEMyzQIffO",
        "outputId": "b8d5ca30-9e3e-4e97-f283-5553c1fbb135"
      },
      "execution_count": 23,
      "outputs": [
        {
          "output_type": "display_data",
          "data": {
            "text/plain": [
              "<Figure size 432x288 with 1 Axes>"
            ],
            "image/png": "[encoded data removed]"
          },
          "metadata": {
            "needs_background": "light"
          }
        }
      ]
    }
  ]
}