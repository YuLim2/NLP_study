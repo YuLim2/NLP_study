{
 "cells": [
  {
   "cell_type": "code",
   "execution_count": 39,
   "id": "f38927f1",
   "metadata": {},
   "outputs": [],
   "source": [
    "# 필요한 모듈 임포트\n",
    "import matplotlib.pyplot as plt\n",
    "import tensorflow as tf\n",
    "from tensorflow.keras import preprocessing\n",
    "from sklearn.model_selection import train_test_split\n",
    "import numpy as np"
   ]
  },
  {
   "cell_type": "code",
   "execution_count": 40,
   "id": "7291f251",
   "metadata": {},
   "outputs": [],
   "source": [
    "# 학습 파일 불러오기\n",
    "def read_file(file_name):\n",
    "    sents = []\n",
    "    with open(file_name, 'r', encoding='utf-8') as f:\n",
    "        lines = f.readlines()\n",
    "        for idx, l in enumerate(lines):\n",
    "            if l[0] == ';' and lines[idx + 1][0] == '$':\n",
    "                this_sent = []\n",
    "            elif l[0] == '$' and lines[idx - 1][0] == ';':\n",
    "                continue\n",
    "            elif l[0] == '\\n':\n",
    "                sents.append(this_sent)\n",
    "            else:\n",
    "                this_sent.append(tuple(l.split()))\n",
    "    return sents"
   ]
  },
  {
   "cell_type": "code",
   "execution_count": 41,
   "id": "807bb20c",
   "metadata": {},
   "outputs": [],
   "source": [
    "# 데이터 불러오기\n",
    "corpus = read_file('./train.txt')"
   ]
  },
  {
   "cell_type": "code",
   "execution_count": 42,
   "id": "45dd9a37",
   "metadata": {},
   "outputs": [
    {
     "name": "stdout",
     "output_type": "stream",
     "text": [
      "샘플 크기: \n",
      " 3555\n",
      "0번째 샘플 문장 시퀀스: \n",
      " ['한편', ',', 'AFC', '챔피언스', '리그', 'E', '조', '에', '속하', 'ㄴ', '포항', '역시', '대회', '8강', '진출', '이', '불투명', '하', '다', '.']\n",
      "0번째 샘플 bio 태그: \n",
      " O\n",
      "샘플 문장 시퀀스 최대 길이: \n",
      " 168\n",
      "샘플 문장 시퀀스 평균 길이: \n",
      " 34.03909985935302\n"
     ]
    }
   ],
   "source": [
    "# 말뭉치 데이터에서 단어와 BIO 태그만 불러와 학습용 데이터 생성\n",
    "sentences, tags = [], []\n",
    "for t in corpus:\n",
    "    tagged_sentence = []\n",
    "    sentence, bio_tag = [], []\n",
    "    for w in t:\n",
    "        tagged_sentence.append((w[1], w[3]))\n",
    "        sentence.append(w[1])\n",
    "        bio_tag.append(w[3])\n",
    "    sentences.append(sentence)\n",
    "    tags.append(bio_tag)\n",
    "print(\"샘플 크기: \\n\", len(sentences))\n",
    "print(\"0번째 샘플 문장 시퀀스: \\n\", sentences[0])\n",
    "print(\"0번째 샘플 bio 태그: \\n\", bio_tag[0])\n",
    "print(\"샘플 문장 시퀀스 최대 길이: \\n\", max(len(l) for l in sentences))\n",
    "print(\"샘플 문장 시퀀스 평균 길이: \\n\", (sum(map(len, sentences))/len(sentences)))"
   ]
  },
  {
   "cell_type": "code",
   "execution_count": 43,
   "id": "2d06dc12",
   "metadata": {},
   "outputs": [],
   "source": [
    "# 토크나이저 정의\n",
    "sent_tokenizer = preprocessing.text.Tokenizer(oov_token='OOV') # 첫 번째 인덱스에 OOV tkdyd\n",
    "sent_tokenizer.fit_on_texts(sentences)\n",
    "tag_tokenizer = preprocessing.text.Tokenizer(lower=False) # 태그 정보는 lower=Falser 소문자로 변환 X\n",
    "tag_tokenizer.fit_on_texts(tags)"
   ]
  },
  {
   "cell_type": "code",
   "execution_count": 44,
   "id": "2dd28166",
   "metadata": {},
   "outputs": [
    {
     "name": "stdout",
     "output_type": "stream",
     "text": [
      "BIO 태그 사전 크기:  8\n",
      "단어 사전 크기:  13834\n"
     ]
    }
   ],
   "source": [
    "# 단어 사전 및 태그 사전 크기\n",
    "vocab_size = len(sent_tokenizer.word_index) + 1\n",
    "tag_size = len(tag_tokenizer.word_index) + 1\n",
    "print(\"BIO 태그 사전 크기: \", tag_size)\n",
    "print(\"단어 사전 크기: \", vocab_size)"
   ]
  },
  {
   "cell_type": "code",
   "execution_count": 45,
   "id": "23c3f51c",
   "metadata": {},
   "outputs": [
    {
     "name": "stdout",
     "output_type": "stream",
     "text": [
      "[183, 11, 4276, 884, 162, 931, 402, 10, 2608, 7, 1516, 608, 145, 1361, 414, 4, 6347, 2, 8, 3]\n",
      "[3632, 3632, 3632, 3632, 3632, 1, 1760, 3632, 3632, 3632, 3632, 3632, 3632, 3632, 3632, 3632, 3632, 3632, 3632, 3632]\n"
     ]
    }
   ],
   "source": [
    "# 학습용 단어 시퀀스 생성\n",
    "x_train = sent_tokenizer.texts_to_sequences(sentences)\n",
    "y_train = sent_tokenizer.texts_to_sequences(tags)\n",
    "print(x_train[0])\n",
    "print(y_train[0])"
   ]
  },
  {
   "cell_type": "code",
   "execution_count": 46,
   "id": "37b1a545",
   "metadata": {},
   "outputs": [],
   "source": [
    "# index to word / index to NER 정의\n",
    "index_to_word = sent_tokenizer.index_word\n",
    "index_to_ner = tag_tokenizer.index_word\n",
    "index_to_ner[0] = 'PAD'"
   ]
  },
  {
   "cell_type": "code",
   "execution_count": 47,
   "id": "a0c42978",
   "metadata": {},
   "outputs": [],
   "source": [
    "# 시퀀스 패딩 처리\n",
    "max_len = 40\n",
    "x_train = preprocessing.sequence.pad_sequences(x_train, padding='post', maxlen=max_len)\n",
    "y_train = preprocessing.sequence.pad_sequences(y_train, padding='post', maxlen=max_len)"
   ]
  },
  {
   "cell_type": "code",
   "execution_count": 48,
   "id": "aea47ef8",
   "metadata": {},
   "outputs": [],
   "source": [
    "# 학습 데이터와 테스트 데이터를 8:2 비율로 분리\n",
    "x_train, x_test, y_train, y_test = train_test_split(x_train, y_train, test_size=.2, random_state=0)"
   ]
  },
  {
   "cell_type": "code",
   "execution_count": 52,
   "id": "dd2fbb2f",
   "metadata": {
    "scrolled": true
   },
   "outputs": [
    {
     "ename": "IndexError",
     "evalue": "index 3632 is out of bounds for axis 1 with size 8",
     "output_type": "error",
     "traceback": [
      "\u001b[0;31m---------------------------------------------------------------------------\u001b[0m",
      "\u001b[0;31mIndexError\u001b[0m                                Traceback (most recent call last)",
      "Input \u001b[0;32mIn [52]\u001b[0m, in \u001b[0;36m<cell line: 2>\u001b[0;34m()\u001b[0m\n\u001b[1;32m      1\u001b[0m \u001b[38;5;66;03m# 출력 데이터를 원-핫 인코딩\u001b[39;00m\n\u001b[0;32m----> 2\u001b[0m y_train \u001b[38;5;241m=\u001b[39m \u001b[43mtf\u001b[49m\u001b[38;5;241;43m.\u001b[39;49m\u001b[43mkeras\u001b[49m\u001b[38;5;241;43m.\u001b[39;49m\u001b[43mutils\u001b[49m\u001b[38;5;241;43m.\u001b[39;49m\u001b[43mto_categorical\u001b[49m\u001b[43m(\u001b[49m\u001b[43my_train\u001b[49m\u001b[43m,\u001b[49m\u001b[43m \u001b[49m\u001b[43mnum_classes\u001b[49m\u001b[38;5;241;43m=\u001b[39;49m\u001b[43mtag_size\u001b[49m\u001b[43m)\u001b[49m\n\u001b[1;32m      3\u001b[0m y_test \u001b[38;5;241m=\u001b[39m tf\u001b[38;5;241m.\u001b[39mkeras\u001b[38;5;241m.\u001b[39mutils\u001b[38;5;241m.\u001b[39mto_categorical(y_test, num_classes\u001b[38;5;241m=\u001b[39mtag_size)\n",
      "File \u001b[0;32m~/miniforge3/envs/tf25/lib/python3.8/site-packages/tensorflow/python/keras/utils/np_utils.py:75\u001b[0m, in \u001b[0;36mto_categorical\u001b[0;34m(y, num_classes, dtype)\u001b[0m\n\u001b[1;32m     73\u001b[0m n \u001b[38;5;241m=\u001b[39m y\u001b[38;5;241m.\u001b[39mshape[\u001b[38;5;241m0\u001b[39m]\n\u001b[1;32m     74\u001b[0m categorical \u001b[38;5;241m=\u001b[39m np\u001b[38;5;241m.\u001b[39mzeros((n, num_classes), dtype\u001b[38;5;241m=\u001b[39mdtype)\n\u001b[0;32m---> 75\u001b[0m categorical[np\u001b[38;5;241m.\u001b[39marange(n), y] \u001b[38;5;241m=\u001b[39m \u001b[38;5;241m1\u001b[39m\n\u001b[1;32m     76\u001b[0m output_shape \u001b[38;5;241m=\u001b[39m input_shape \u001b[38;5;241m+\u001b[39m (num_classes,)\n\u001b[1;32m     77\u001b[0m categorical \u001b[38;5;241m=\u001b[39m np\u001b[38;5;241m.\u001b[39mreshape(categorical, output_shape)\n",
      "\u001b[0;31mIndexError\u001b[0m: index 3632 is out of bounds for axis 1 with size 8"
     ]
    }
   ],
   "source": [
    "# 출력 데이터를 원-핫 인코딩\n",
    "y_train = tf.keras.utils.to_categorical(y_train, num_classes=tag_size)\n",
    "y_test = tf.keras.utils.to_categorical(y_test, num_classes=tag_size)"
   ]
  },
  {
   "cell_type": "code",
   "execution_count": null,
   "id": "d2ff1a9e",
   "metadata": {},
   "outputs": [],
   "source": []
  }
 ],
 "metadata": {
  "kernelspec": {
   "display_name": "Python 3 (ipykernel)",
   "language": "python",
   "name": "python3"
  },
  "language_info": {
   "codemirror_mode": {
    "name": "ipython",
    "version": 3
   },
   "file_extension": ".py",
   "mimetype": "text/x-python",
   "name": "python",
   "nbconvert_exporter": "python",
   "pygments_lexer": "ipython3",
   "version": "3.8.13"
  }
 },
 "nbformat": 4,
 "nbformat_minor": 5
}
