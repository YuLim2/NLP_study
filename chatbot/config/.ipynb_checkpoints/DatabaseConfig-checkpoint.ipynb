{
 "cells": [
  {
   "cell_type": "code",
   "execution_count": null,
   "id": "6c7cfb1f",
   "metadata": {},
   "outputs": [],
   "source": [
    "DB_HOST = \"127.0.0.1\"\n",
    "DB_USER = \"homestead\"\n",
    "DB_PASSWORD = \"12test34\"\n",
    "DB_NAME = \"homestead\"\n",
    "\n",
    "def DatabaseConfig():\n",
    "    global DB_HOST, DB_USER, DB_PASSWORD, DB_NAME"
   ]
  }
 ],
 "metadata": {
  "kernelspec": {
   "display_name": "Python 3 (ipykernel)",
   "language": "python",
   "name": "python3"
  },
  "language_info": {
   "codemirror_mode": {
    "name": "ipython",
    "version": 3
   },
   "file_extension": ".py",
   "mimetype": "text/x-python",
   "name": "python",
   "nbconvert_exporter": "python",
   "pygments_lexer": "ipython3",
   "version": "3.8.13"
  }
 },
 "nbformat": 4,
 "nbformat_minor": 5
}
