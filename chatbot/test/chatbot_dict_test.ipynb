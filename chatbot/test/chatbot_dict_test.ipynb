{
 "cells": [
  {
   "cell_type": "code",
   "execution_count": 5,
   "id": "2c249229",
   "metadata": {},
   "outputs": [],
   "source": [
    "# 필요한 모듈 임포트\n",
    "import pickle"
   ]
  },
  {
   "cell_type": "code",
   "execution_count": 10,
   "id": "ba2ead0a",
   "metadata": {},
   "outputs": [],
   "source": [
    "# 단어 사전 불러오기\n",
    "f = open(\"../train_tools/dict/chatbot_dict.bin\", \"rb\")\n",
    "word_index = pickle.load(f)\n",
    "f.close()"
   ]
  },
  {
   "cell_type": "code",
   "execution_count": 11,
   "id": "229c6e7b",
   "metadata": {},
   "outputs": [],
   "source": [
    "# 테스트 문장 선언\n",
    "sent = \"내일 오전 10시에 탕수육 주문하고 싶어 ㅋㅋ\""
   ]
  },
  {
   "cell_type": "code",
   "execution_count": 12,
   "id": "6342f534",
   "metadata": {},
   "outputs": [],
   "source": [
    "# 전처리 객체 생성\n",
    "p = Preprocess(userdic='../utils/user_dic.tsv')"
   ]
  },
  {
   "cell_type": "code",
   "execution_count": 13,
   "id": "727a19bf",
   "metadata": {},
   "outputs": [],
   "source": [
    "pos = p.pos(sent)"
   ]
  },
  {
   "cell_type": "code",
   "execution_count": 14,
   "id": "85595396",
   "metadata": {},
   "outputs": [
    {
     "name": "stdout",
     "output_type": "stream",
     "text": [
      "내일 14\n",
      "오전 269\n",
      "10시 1\n",
      "탕수육 431\n",
      "주문 3\n",
      "싶 11\n",
      "ㅋㅋ 10728\n"
     ]
    }
   ],
   "source": [
    "# 품사 태그 없이 키워드 출력\n",
    "keywords = p.get_keywords(pos, without_tag=True)\n",
    "for word in keywords:\n",
    "    try:\n",
    "        print(word, word_index[word])\n",
    "    except KeyError:\n",
    "        # 해당 딘아기 사전에 없는 경우 OOV 처리\n",
    "        print(word, word_index['OOV'])"
   ]
  }
 ],
 "metadata": {
  "kernelspec": {
   "display_name": "Python 3 (ipykernel)",
   "language": "python",
   "name": "python3"
  },
  "language_info": {
   "codemirror_mode": {
    "name": "ipython",
    "version": 3
   },
   "file_extension": ".py",
   "mimetype": "text/x-python",
   "name": "python",
   "nbconvert_exporter": "python",
   "pygments_lexer": "ipython3",
   "version": "3.8.13"
  }
 },
 "nbformat": 4,
 "nbformat_minor": 5
}
