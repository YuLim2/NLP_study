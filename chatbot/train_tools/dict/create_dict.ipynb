{
 "cells": [
  {
   "cell_type": "code",
   "execution_count": 1,
   "id": "27a7dbc8",
   "metadata": {},
   "outputs": [
    {
     "name": "stdout",
     "output_type": "stream",
     "text": [
      "Init Plugin\n",
      "Init Graph Optimizer\n",
      "Init Kernel\n"
     ]
    }
   ],
   "source": [
    "# 필요한 모듈 임포트\n",
    "from tensorflow.keras import preprocessing\n",
    "import pickle"
   ]
  },
  {
   "cell_type": "code",
   "execution_count": 2,
   "id": "5e84c9e3",
   "metadata": {},
   "outputs": [],
   "source": [
    "# 말뭉치 데이터 읽어오기\n",
    "def read_corpus_data(filename):\n",
    "    with open(filename, 'r') as f:\n",
    "        data = [line.split('\\t') for line in f.read().splitlines()]\n",
    "        data = data[1:] # 헤더 제거\n",
    "    return data"
   ]
  },
  {
   "cell_type": "code",
   "execution_count": 3,
   "id": "ffa9d7bc",
   "metadata": {},
   "outputs": [],
   "source": [
    "# 말뭉치 데이터 변수 설정\n",
    "corpus_data = read_corpus_data('./corpus.txt')"
   ]
  },
  {
   "cell_type": "code",
   "execution_count": 6,
   "id": "8b8e44b6",
   "metadata": {},
   "outputs": [],
   "source": [
    "# 말뭉치 데이터에서 키워드만 추출해서 사전 리스트 생성\n",
    "p = Preprocess()\n",
    "dict = []\n",
    "for c in corpus_data:\n",
    "    pos = p.pos(c[1])\n",
    "    for k in pos:\n",
    "        dict.append(k[0])"
   ]
  },
  {
   "cell_type": "code",
   "execution_count": 7,
   "id": "804ba18a",
   "metadata": {},
   "outputs": [],
   "source": [
    "# 사전에 사용될 word2index 생성\n",
    "# 사전의 첫 번째 인덱스에는 OOV 사용\n",
    "tokenizer = preprocessing.text.Tokenizer(oov_token='OOV')\n",
    "tokenizer.fit_on_texts(dict)\n",
    "word_index = tokenizer.word_index"
   ]
  },
  {
   "cell_type": "code",
   "execution_count": null,
   "id": "fbdc6977",
   "metadata": {},
   "outputs": [],
   "source": [
    "# 사전 파일 생성\n",
    "f = open(\"chatbot_dict.bin\", \"wb\")\n",
    "try:\n",
    "    pickle.dump(word_index, f)\n",
    "except Exception as e:\n",
    "    print(e)\n",
    "finally:\n",
    "    f.close()"
   ]
  }
 ],
 "metadata": {
  "kernelspec": {
   "display_name": "Python 3 (ipykernel)",
   "language": "python",
   "name": "python3"
  },
  "language_info": {
   "codemirror_mode": {
    "name": "ipython",
    "version": 3
   },
   "file_extension": ".py",
   "mimetype": "text/x-python",
   "name": "python",
   "nbconvert_exporter": "python",
   "pygments_lexer": "ipython3",
   "version": "3.8.13"
  }
 },
 "nbformat": 4,
 "nbformat_minor": 5
}
