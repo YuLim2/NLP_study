{
 "cells": [
  {
   "cell_type": "code",
   "execution_count": 15,
   "id": "dd3191b9",
   "metadata": {},
   "outputs": [],
   "source": [
    "# 필요한 모듈 임포트\n",
    "from tensorflow.keras import preprocessing\n",
    "import pickle"
   ]
  },
  {
   "cell_type": "code",
   "execution_count": 21,
   "id": "8183a2ec",
   "metadata": {},
   "outputs": [],
   "source": [
    "# 말뭉치 데이터 읽어오기\n",
    "def read_corpus_data(filename):\n",
    "    with open(filename, 'r') as f:\n",
    "        data = [line.split('\\t') for line in f.read().splitlines()]\n",
    "        data = data[1:] # 헤더 제거\n",
    "    return data"
   ]
  },
  {
   "cell_type": "code",
   "execution_count": 22,
   "id": "9c6ba15a",
   "metadata": {},
   "outputs": [],
   "source": [
    "# 말뭉치 데이터 변수 설정\n",
    "corpus_data = read_corpus_data('./corpus.txt')"
   ]
  },
  {
   "cell_type": "markdown",
   "id": "00d99cd3",
   "metadata": {},
   "source": [
    "read_corpus_data()함수를 통해 말뭉치 파일을 읽어와 리스트로 변환<br>"
   ]
  },
  {
   "cell_type": "code",
   "execution_count": 23,
   "id": "729cbd32",
   "metadata": {},
   "outputs": [],
   "source": [
    "# 말뭉치 데이터에서 키워드만 추출해서 사전 리스트 생성\n",
    "p = Preprocess()\n",
    "dict = []\n",
    "for c in corpus_data:\n",
    "    pos = p.pos(c[1])\n",
    "    for k in pos:\n",
    "        dict.append(k[0])"
   ]
  },
  {
   "cell_type": "markdown",
   "id": "ab734f9d",
   "metadata": {},
   "source": [
    "하나씩 불러와 POS 태깅 후 형태소 분석 결과를 dict에 저장"
   ]
  },
  {
   "cell_type": "code",
   "execution_count": 24,
   "id": "c3f58007",
   "metadata": {},
   "outputs": [],
   "source": [
    "# 사전에 사용될 word2index 생성\n",
    "# 사전의 첫 번째 인덱스에는 OOV 사용\n",
    "tokenizer = preprocessing.text.Tokenizer(oov_token='OOV')\n",
    "tokenizer.fit_on_texts(dict)\n",
    "word_index = tokenizer.word_index"
   ]
  },
  {
   "cell_type": "markdown",
   "id": "741e1ce0",
   "metadata": {},
   "source": [
    "dict 리스트를 단어 인덱스 딕서녀리 word_index 데이터로 만들기"
   ]
  },
  {
   "cell_type": "code",
   "execution_count": 25,
   "id": "c00d74e7",
   "metadata": {},
   "outputs": [],
   "source": [
    "# 사전 파일 생성\n",
    "f = open(\"chatbot_dict.bon\", \"wb\")\n",
    "try:\n",
    "    pickle.dump(word_index, f)\n",
    "except Exception as e:\n",
    "    print(e)\n",
    "finally:\n",
    "    f.close()"
   ]
  },
  {
   "cell_type": "markdown",
   "id": "3049ab50",
   "metadata": {},
   "source": [
    "생성된 단어 인덱스 딕셔너리 word_index 객체를 파일로 저장"
   ]
  }
 ],
 "metadata": {
  "kernelspec": {
   "display_name": "Python 3 (ipykernel)",
   "language": "python",
   "name": "python3"
  },
  "language_info": {
   "codemirror_mode": {
    "name": "ipython",
    "version": 3
   },
   "file_extension": ".py",
   "mimetype": "text/x-python",
   "name": "python",
   "nbconvert_exporter": "python",
   "pygments_lexer": "ipython3",
   "version": "3.8.13"
  }
 },
 "nbformat": 4,
 "nbformat_minor": 5
}
