{
 "cells": [
  {
   "cell_type": "code",
   "execution_count": 8,
   "id": "8596185a",
   "metadata": {},
   "outputs": [],
   "source": [
    "# 필요한 모듈 임포트\n",
    "import pymysql\n",
    "import sys\n",
    "sys.path.append('../../')\n",
    "import config"
   ]
  },
  {
   "cell_type": "code",
   "execution_count": 9,
   "id": "32e458e3",
   "metadata": {},
   "outputs": [],
   "source": [
    "db = None\n",
    "try:\n",
    "    db = pymysql.connect(\n",
    "        host=\"127.0.0.1\",\n",
    "        user=\"homestead\",\n",
    "        passwd=\"12test34\",\n",
    "        db=\"homestead\",\n",
    "        charset='utf8'\n",
    "    )\n",
    "    \n",
    "    # 테이블 생성 sql 정의\n",
    "    sql='''\n",
    "        CREATE TABLE IF NOT EXISTS `chatbot_train_data`(\n",
    "        `id` INT UNSIGNED NOT NULL AUTO_INCREMENT,\n",
    "        `intent` VARCHAR(45) NULL, \n",
    "        `ner` VARCHAR(1024) NULL,\n",
    "        `query` TEXT NULL,\n",
    "        `answer` TEXT NOT NULL,\n",
    "        `answer_img_url` VARCHAR(2048) NULL,\n",
    "        PRIMARY KEY(`id`))\n",
    "    ENGINE = InnoDB DEFAULT CHARSET=utf8\n",
    "    '''\n",
    "    \n",
    "    # 테이블 생성\n",
    "    with db.cursor() as cursor:\n",
    "        cursor.execute(sql)\n",
    "    \n",
    "except Exception as e:\n",
    "    print(e)\n",
    "    \n",
    "finally:\n",
    "    if db is not None:\n",
    "        db.close()"
   ]
  }
 ],
 "metadata": {
  "kernelspec": {
   "display_name": "Python 3 (ipykernel)",
   "language": "python",
   "name": "python3"
  },
  "language_info": {
   "codemirror_mode": {
    "name": "ipython",
    "version": 3
   },
   "file_extension": ".py",
   "mimetype": "text/x-python",
   "name": "python",
   "nbconvert_exporter": "python",
   "pygments_lexer": "ipython3",
   "version": "3.8.13"
  }
 },
 "nbformat": 4,
 "nbformat_minor": 5
}
