{
 "cells": [
  {
   "cell_type": "markdown",
   "id": "1ea5c1be",
   "metadata": {},
   "source": [
    "## 챗봇 학습 데이터 엑셀 파일 및 DB 연동"
   ]
  },
  {
   "cell_type": "code",
   "execution_count": 14,
   "id": "658c698e",
   "metadata": {},
   "outputs": [],
   "source": [
    "# 필요한 모듈 임포트\n",
    "import pymysql\n",
    "import openpyxl"
   ]
  },
  {
   "cell_type": "code",
   "execution_count": 15,
   "id": "fcee3961",
   "metadata": {},
   "outputs": [],
   "source": [
    "# 학습 데이터 초기화\n",
    "def all_clear_train_data(db):\n",
    "    # 기존 학습 데이터 삭제\n",
    "    sql='''\n",
    "        delete from chatbot_train_data\n",
    "    '''\n",
    "    with db.cursor() as cursor:\n",
    "        cursor.execute(sql)\n",
    "        \n",
    "    # auto increment 초기화\n",
    "    sql='''\n",
    "        ALTER TABLE chatbot_train_data AUTO_INCREMENT=1\n",
    "    '''\n",
    "    with db.cursor() as cursor:\n",
    "        cursor.execute(sql)"
   ]
  },
  {
   "cell_type": "markdown",
   "id": "487dc200",
   "metadata": {},
   "source": [
    "### 학습 데이터 초기화\n",
    "데이터를 모두 지우고 새로 입력하는 구조 <br>\n",
    "delect를 통해 삭제하고 auto increment 1로 초기화하는 함수"
   ]
  },
  {
   "cell_type": "code",
   "execution_count": 16,
   "id": "b6d74857",
   "metadata": {},
   "outputs": [],
   "source": [
    "# db에 데이터 저장\n",
    "def insert_data(db, xls_row):\n",
    "    intent, ner, query, answer, answer_img_url = xls_row\n",
    "    \n",
    "    sql='''\n",
    "        INSERT chatbot_train_data(intent, ner, query, answer, answer_img_url)\n",
    "        values(\n",
    "            '%s', '%s', '%s', '%s', '%s'\n",
    "        )\n",
    "    ''' % (intent.value, ner.value, query.value, answer.value, answer_img_url.value)\n",
    "    \n",
    "    # 엑셀에서 불러온 cell에 데이터가 없는 경우 null로 치환\n",
    "    sql = sql.replace(\"'None'\", \"null\")\n",
    "    \n",
    "    with db.cursor() as cursor:\n",
    "        cursor.execute(sql)\n",
    "        print('{} 저장'.format(query.value))\n",
    "        db.commit()"
   ]
  },
  {
   "cell_type": "code",
   "execution_count": 17,
   "id": "1ef0ecbb",
   "metadata": {},
   "outputs": [],
   "source": [
    "# 학습 엑셀 파일 선언\n",
    "train_file = './train_data.xlsx'"
   ]
  },
  {
   "cell_type": "code",
   "execution_count": 18,
   "id": "5d2029b0",
   "metadata": {},
   "outputs": [
    {
     "name": "stdout",
     "output_type": "stream",
     "text": [
      "안녕하세요 저장\n",
      "반가워요 저장\n",
      "{B_FOOD} 주문할게요 저장\n",
      "{B_FOOD} 주문할게요 저장\n",
      "{B_DT} 예약 저장\n",
      "None 저장\n"
     ]
    }
   ],
   "source": [
    "db = None\n",
    "try:\n",
    "    db = pymysql.connect(\n",
    "        host=\"127.0.0.1\",\n",
    "        user=\"homestead\",\n",
    "        passwd=\"12test34\",\n",
    "        db=\"homestead\",\n",
    "        charset='utf8'\n",
    "    )\n",
    "\n",
    "    # 기존 학습 데이터 초기화\n",
    "    all_clear_train_data(db)\n",
    "\n",
    "    # 학습 엑셀 파일 불러오기\n",
    "    wb = openpyxl.load_workbook(train_file)\n",
    "    sheet = wb['Sheet1']\n",
    "    for row in sheet.iter_rows(min_row=2):  # 헤더는 불러오지 않음\n",
    "        # 데이터 저장\n",
    "        insert_data(db, row)\n",
    "\n",
    "    wb.close()\n",
    "\n",
    "except Exception as e:\n",
    "    print(e)\n",
    "\n",
    "finally:\n",
    "    if db is not None:\n",
    "        db.close()"
   ]
  },
  {
   "cell_type": "markdown",
   "id": "cae01500",
   "metadata": {},
   "source": [
    "### OpenPyXL 모듈을 이용해 엑셀 파일을 DB 데이터에 저장\n",
    "insert 명령어를 사용하여 DB에 저장 <br>\n",
    "select를 이용하여 결과 확인"
   ]
  }
 ],
 "metadata": {
  "kernelspec": {
   "display_name": "Python 3 (ipykernel)",
   "language": "python",
   "name": "python3"
  },
  "language_info": {
   "codemirror_mode": {
    "name": "ipython",
    "version": 3
   },
   "file_extension": ".py",
   "mimetype": "text/x-python",
   "name": "python",
   "nbconvert_exporter": "python",
   "pygments_lexer": "ipython3",
   "version": "3.8.13"
  }
 },
 "nbformat": 4,
 "nbformat_minor": 5
}
