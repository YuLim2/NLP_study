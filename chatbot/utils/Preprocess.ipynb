{
 "cells": [
  {
   "cell_type": "markdown",
   "id": "0ffd0523",
   "metadata": {},
   "source": [
    "## 챗봇 전처리 클래스"
   ]
  },
  {
   "cell_type": "code",
   "execution_count": 1,
   "id": "c8f9da71",
   "metadata": {},
   "outputs": [],
   "source": [
    "# 필요한 모듈 임포트\n",
    "from konlpy.tag import Komoran"
   ]
  },
  {
   "cell_type": "code",
   "execution_count": 2,
   "id": "537daf95",
   "metadata": {},
   "outputs": [],
   "source": [
    "# 전처리 클래스\n",
    "class Preprocess:\n",
    "    def __init__(self, userdic=None): # 생성자\n",
    "        # 형태소 분석기 초기화\n",
    "        self.komoran = Komoran(userdic=userdic)\n",
    "        \n",
    "        # 제외할 품사\n",
    "        # 관계언 제거, 기호 제거\n",
    "        # 어미 제거\n",
    "        # 접미사 제거\n",
    "        self.exclusion_tags = [\n",
    "            'JKS', 'JKC', 'JKG', 'JKO', 'JKB', 'JKV', 'JKQ',\n",
    "            'JX', 'JC',\n",
    "            'SF', 'SP', 'SS', 'SE', 'SO',\n",
    "            'EP', 'EF', 'EC', 'ETN', 'ETM',\n",
    "            'XSN', 'XSV', 'XSA'\n",
    "        ]\n",
    "        # 형태소 분석기 POS 태거\n",
    "        def pos(self, sentence):\n",
    "            return self.komoran.pos(sentence)\n",
    "        \n",
    "        # 불용어 제거 후 필요한 품사 정보만 가져오기\n",
    "        def get_keywords(self, pos, without_tag=False):\n",
    "            f = lambda x: x in self.exclusion_tags\n",
    "            word_list = []\n",
    "            for p in pos:\n",
    "                if f(p[1]) is False:\n",
    "                    word_list.append(p if without_tag is False else p[0])\n",
    "                return word_list"
   ]
  },
  {
   "cell_type": "markdown",
   "id": "2bafcab4",
   "metadata": {},
   "source": [
    "```python\n",
    "self.komoran = Komoran(userdic=userdic)<br>\n",
    "```\n",
    "클래스가 생성될 때 형태소 분석기 인스턴스 객체 생성<br>\n",
    "형태소 분석기 - komoran<br>\n",
    "userdic 인자에서 사용자 정의 사전 파일의 경로\n",
    "\n",
    "<br>\n",
    "\n",
    "```python\n",
    "self.exclusion_tags = [\n",
    "            'JKS', 'JKC', 'JKG', 'JKO', 'JKB', 'JKV', 'JKQ',\n",
    "            'JX', 'JC',\n",
    "            'SF', 'SP', 'SS', 'SE', 'SO',\n",
    "            'EP', 'EF', 'EC', 'ETN', 'ETM',\n",
    "            'XSN', 'XSV', 'XSA'\n",
    "        ]\n",
    "```\n",
    "<a href=\"https://docs.komoran.kr/firststep/postypes.html\">komoran 형태소 분석기 품사 정보</a><br>\n",
    "불용어로 정의할 품사를 리스트로 정의<br>\n",
    "불용어는 핵심 키워드에서 제외\n",
    "\n",
    "<br>\n",
    "\n",
    "\n",
    "```python\n",
    "def pos(self, sentence):\n",
    "    return self.komoran.pos(sentence)\n",
    "```\n",
    "komoran 형태소 분석기의 POS 태거를 호출하는 매서드<br>\n",
    "객체를 직접 호출하지 않기 위하여 매서드를 통해 접근 <br>\n",
    "형태소 분석기 종류를 바꾸게 될 경우 매서드만 변경하면 되므로 유지보수에도 좋다.\n",
    "\n",
    "<br>\n",
    "\n",
    "```python\n",
    "def get_keywords(self, pos, without_tag=False):\n",
    "    f = lambda x: x in self.exclusion_tags\n",
    "    word_list = []\n",
    "    for p in pos:\n",
    "        if f(p[1]) is False:\n",
    "            word_list.append(p if without_tag is False else p[0])\n",
    "    return word_list\n",
    "```\n",
    "불용어 제거 후 핵심 키워드만 추출<br>\n",
    "생성자에서 정의한 self.exclusion_tags 해당하지 않은 키워드만 저장\n",
    "\n",
    "\n"
   ]
  }
 ],
 "metadata": {
  "kernelspec": {
   "display_name": "Python 3 (ipykernel)",
   "language": "python",
   "name": "python3"
  },
  "language_info": {
   "codemirror_mode": {
    "name": "ipython",
    "version": 3
   },
   "file_extension": ".py",
   "mimetype": "text/x-python",
   "name": "python",
   "nbconvert_exporter": "python",
   "pygments_lexer": "ipython3",
   "version": "3.8.13"
  }
 },
 "nbformat": 4,
 "nbformat_minor": 5
}
