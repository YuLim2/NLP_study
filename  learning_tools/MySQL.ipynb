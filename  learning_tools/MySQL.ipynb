{
 "cells": [
  {
   "cell_type": "markdown",
   "id": "b6d258db",
   "metadata": {},
   "source": [
    "## MySQL"
   ]
  },
  {
   "cell_type": "code",
   "execution_count": 1,
   "id": "dd0bd253",
   "metadata": {},
   "outputs": [],
   "source": [
    "# 필요한 모듈 임포트\n",
    "import pymysql"
   ]
  },
  {
   "cell_type": "code",
   "execution_count": 3,
   "id": "191d2a0e",
   "metadata": {},
   "outputs": [],
   "source": [
    "db = pymysql.connect(\n",
    "    host='127.0.0.1',\n",
    "    user='homestead',\n",
    "    passwd='12test34',\n",
    "    db='homestead',\n",
    "    charset='utf8'\n",
    ")"
   ]
  },
  {
   "cell_type": "code",
   "execution_count": 6,
   "id": "2cc8d2e5",
   "metadata": {},
   "outputs": [
    {
     "name": "stdout",
     "output_type": "stream",
     "text": [
      "DB 연결 성공\n",
      "DB 연결 닫기 성공\n"
     ]
    }
   ],
   "source": [
    "# DB 호스트 연결 및 닫기\n",
    "db = None\n",
    "try:\n",
    "    db = pymysql.connect(\n",
    "        host='127.0.0.1',\n",
    "        user='homestead',\n",
    "        passwd='12test34',\n",
    "        db='homestead',\n",
    "        charset='utf8'\n",
    "    )\n",
    "    print(\"DB 연결 성공\")\n",
    "except Exception as e:\n",
    "    print(e) # 오류 내용 츨력\n",
    "finally:\n",
    "    if db is not None: # DB 연결 시\n",
    "        db.close()\n",
    "        print(\"DB 연결 닫기 성공\")"
   ]
  },
  {
   "cell_type": "code",
   "execution_count": null,
   "id": "290bfc9f",
   "metadata": {},
   "outputs": [],
   "source": []
  }
 ],
 "metadata": {
  "kernelspec": {
   "display_name": "Python 3 (ipykernel)",
   "language": "python",
   "name": "python3"
  },
  "language_info": {
   "codemirror_mode": {
    "name": "ipython",
    "version": 3
   },
   "file_extension": ".py",
   "mimetype": "text/x-python",
   "name": "python",
   "nbconvert_exporter": "python",
   "pygments_lexer": "ipython3",
   "version": "3.8.13"
  }
 },
 "nbformat": 4,
 "nbformat_minor": 5
}
