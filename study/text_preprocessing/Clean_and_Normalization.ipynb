{
 "cells": [
  {
   "cell_type": "markdown",
   "metadata": {},
   "source": [
    "## 정제(Cleaning) and 정규화(Nomalization)\n",
    " - 정제(cleaning): 갖고 있는 코퍼스로부터 노이즈 데이터를 제거\n",
    " - 정규화(normalization): 표현 방법이 다른 단어들을 통합시킴"
   ]
  },
  {
   "cell_type": "markdown",
   "metadata": {},
   "source": [
    "### 1. 규칙에 기반한 표기가 다른 단어들의 통합\n",
    "표기가 다른 단어들을 하나의 단어로 정규화하는 방법 사용<br>\n",
    "\n",
    "ex)<br>US == USA<br>uh-huh == uhhuh\n",
    "- 어간 추출(stemming)\n",
    "- 표제어 추출(lemmatization)"
   ]
  },
  {
   "cell_type": "markdown",
   "metadata": {},
   "source": [
    "### 2. 대, 소문자 통합\n",
    "영어권 언어에서 대, 소문자를 통합하는 것은 단어의 개수를 줄일 수 있는 또 다른 정규화 방법<br>\n",
    "나라, 회사 이름(general motors), 사람 이름(bush)는 대문자로 유지<br>\n",
    "때때로 예외 사항을 크게 고려하지 않고, 모두 소문자로 바꾸는 것이 종종 더 실용적인 해결책"
   ]
  },
  {
   "cell_type": "markdown",
   "metadata": {},
   "source": [
    "### 3. 불필요한 단어의 제거\n",
    "제거해야 하는 노이즈 데이터(noise data)\n",
    "- 자연어가 아닌 것\n",
    "- 아무 의미를 갖지 않는 것\n",
    "- 목적에 맞지 않는 것\n",
    "\n",
    "제거 방법\n",
    "- 불용어 제거\n",
    "- 빈도 적은 단어: 직관적으로 분류에 도움이 되지 않는 데이타\n",
    "- 길이가 짧은 단어 제거: 영어권 언어에서 길이가 짧은 단어들은 대부분 불용어에 해당"
   ]
  },
  {
   "cell_type": "code",
   "execution_count": 5,
   "metadata": {},
   "outputs": [
    {
     "name": "stdout",
     "output_type": "stream",
     "text": [
      " was wondering anyone out there could enlighten this car.\n"
     ]
    }
   ],
   "source": [
    "# 길이가 짧은 단어 제거\n",
    "import re\n",
    "import re\n",
    "text = \"I was wondering if anyone out there could enlighten me on this car.\"\n",
    "\n",
    "# 길이가 1~2인 단어들을 정규 표현식을 이용하여 삭제\n",
    "shortword = re.compile(r'\\W*\\b\\w{1,2}\\b')\n",
    "print(shortword.sub('', text))"
   ]
  },
  {
   "cell_type": "markdown",
   "metadata": {},
   "source": [
    "### 정규 표현식(Regular Expression)\n",
    "노이즈 데이터의 특징을 안다면, 정규 표현식을 이용하여 제거<br>\n",
    "\n",
    "ex)<br>\n",
    "HTML -> HTML tag<br>\n",
    "뉴스 기사 -> 게재 시간"
   ]
  }
 ],
 "metadata": {
  "kernelspec": {
   "display_name": "Python [conda env:data_env] *",
   "language": "python",
   "name": "conda-env-data_env-py"
  },
  "language_info": {
   "codemirror_mode": {
    "name": "ipython",
    "version": 3
   },
   "file_extension": ".py",
   "mimetype": "text/x-python",
   "name": "python",
   "nbconvert_exporter": "python",
   "pygments_lexer": "ipython3",
   "version": "3.7.10"
  }
 },
 "nbformat": 4,
 "nbformat_minor": 4
}
