{
 "cells": [
  {
   "cell_type": "markdown",
   "metadata": {
    "collapsed": true,
    "pycharm": {
     "name": "#%% md\n"
    }
   },
   "source": [
    ">토큰화(Tokenization)\n",
    " 주어진 코퍼스(corpus)에서 토큰(token)이라 불리는 단위로 나누는 작업\n",
    "\n",
    "### 1. 단어 토큰화(Word Tokenization)\n",
    "토큰의 기준을 단어(word)로 하는 경우\n",
    "여기서 단어(word)는 단어 단위 외에도 단어구, 의미를 갖는 문자열로도 간주되기도 한다.<br>"
   ]
  },
  {
   "cell_type": "markdown",
   "metadata": {
    "pycharm": {
     "name": "#%% md\n"
    }
   },
   "source": [
    "### 2. 토큰화 중 생기는 선택의 순간\n",
    "토큰화의 기준을 생각해봐야 하는 경우가 발생<br>\n",
    "NLTK를 화용하여 토큰화\n",
    "<br>"
   ]
  },
  {
   "cell_type": "markdown",
   "metadata": {},
   "source": [
    "### 3. 토큰화에서 고려해야할 사항\n",
    "토큰화는 섬세한 알고리즘이 필요하다.<br>\n",
    "1) 구두점이나 특수 문자를 단순 제외해서는 안 된다.<br>\n",
    "2) 줄임말이나 단어 내에 띄어쓰기가 있는 경우도 존재한다.\n"
   ]
  },
  {
   "cell_type": "code",
   "execution_count": 4,
   "metadata": {
    "pycharm": {
     "name": "#%%\n"
    }
   },
   "outputs": [
    {
     "name": "stdout",
     "output_type": "stream",
     "text": [
      "트리뱅크 워드토크나이저 : ['Starting', 'a', 'home-based', 'restaurant', 'may', 'be', 'an', 'ideal.', 'it', 'does', \"n't\", 'have', 'a', 'food', 'chain', 'or', 'restaurant', 'of', 'their', 'own', '.']\n"
     ]
    }
   ],
   "source": [
    "# 표준 토큰화 예제 Penn Treebank Tokenization\n",
    "# home-based는 하나의 토큰으로 취급, dosen't의 경우 does와 n't는 분리\n",
    "from nltk.tokenize import TreebankWordTokenizer\n",
    "\n",
    "tokenizer = TreebankWordTokenizer()\n",
    "\n",
    "text = \"Starting a home-based restaurant may be an ideal. it doesn't have a food chain or restaurant of their own.\"\n",
    "print('트리뱅크 워드토크나이저 :',tokenizer.tokenize(text))"
   ]
  },
  {
   "cell_type": "markdown",
   "metadata": {},
   "source": [
    "### 4. 문장 토큰화(Sentence Tokenization)\n",
    "토큰의 단위가 문장(sentence)일 경우<br>\n",
    "문장부호로 나누기만 하면 안 됨<br>\n",
    "!, ?는 꽤 명확한 구분자(boundary)이지만 마침표는 아님"
   ]
  },
  {
   "cell_type": "code",
   "execution_count": 10,
   "metadata": {},
   "outputs": [
    {
     "name": "stdout",
     "output_type": "stream",
     "text": [
      "문장 토큰화1 : ['His barber kept his word.', 'But keeping such a huge secret to himself was driving him crazy.', 'Finally, the barber went up a mountain and almost to the edge of a cliff.', 'He dug a hole in the midst of some reeds.', 'He looked about, to make sure no one was near.']\n"
     ]
    }
   ],
   "source": [
    "# NLEK 영어 문장의 토큰화 sent_tokenize를 통해 토큰화\n",
    "from nltk.tokenize import sent_tokenize\n",
    "\n",
    "text = \"His barber kept his word. But keeping such a huge secret to himself was driving him crazy. Finally, the barber went up a mountain and almost to the edge of a cliff. He dug a hole in the midst of some reeds. He looked about, to make sure no one was near.\"\n",
    "print('문장 토큰화1 :',sent_tokenize(text))"
   ]
  },
  {
   "cell_type": "code",
   "execution_count": 11,
   "metadata": {},
   "outputs": [
    {
     "name": "stdout",
     "output_type": "stream",
     "text": [
      "문장 토큰화2 : ['I am actively looking for Ph.D. students.', 'and you are a Ph.D student.']\n"
     ]
    }
   ],
   "source": [
    "# 문장 중간에 마침표\n",
    "text = \"I am actively looking for Ph.D. students. and you are a Ph.D student.\"\n",
    "print('문장 토큰화2 :',sent_tokenize(text))"
   ]
  },
  {
   "cell_type": "code",
   "execution_count": 15,
   "metadata": {},
   "outputs": [
    {
     "name": "stdout",
     "output_type": "stream",
     "text": [
      "한국어 문장 토큰화 :  ['얼른 8 시 40 분이 되서 기숙사에 들어가고 싶다.', '빨리 들어가서 쉬면서 공부하고 싶다.', '노래도 들어야지!']\n"
     ]
    }
   ],
   "source": [
    "# 한국어에 대한 문장 토큰화 도구 KSS(Korean Sentence Splitter)\n",
    "import kss\n",
    "text = '얼른 8 시 40 분이 되서 기숙사에 들어가고 싶다. 빨리 들어가서 쉬면서 공부하고 싶다. 노래도 들어야지!'\n",
    "print('한국어 문장 토큰화 : ', kss.split_sentences(text))"
   ]
  },
  {
   "cell_type": "markdown",
   "metadata": {},
   "source": [
    "### 5. 한국어에서의 토큰화의 어려움\n",
    "1) 교착어의 특성 - 같은 단어에 다른 조사가 붙어 다른 단어로 인식이 된다.<br>\n",
    "\n",
    "       형태소(morpheme)\n",
    "        - 자립 형태소: 자립하여 사용할 수 있는 형태소, 그 자체로 단어\n",
    "        - 의존 형태소: 다른 형태소와 결합하여 사용되는 형태소\n",
    "        \n",
    "2) 띄어쓰기가 영어보다 잘 지켜지지 않는다.<br>\n"
   ]
  },
  {
   "cell_type": "markdown",
   "metadata": {},
   "source": [
    "### 6. 품사 태깅(Part-of-speech tagging)\n",
    "단어 토큰화 과정에서 각 단어가 어떤 품사로 쓰였는지 구분하는 것"
   ]
  },
  {
   "cell_type": "markdown",
   "metadata": {},
   "source": [
    "### 7. NLTK와 KoNLPy를 이용한 영어, 힌국어 토큰화 실습\n",
    "Penn Treebank POG Tags에서<br>\n",
    "PRP는 인칭 대명사<br> VBP는 동사<br>RB는 부사<br>VBG는 현재부사<br>IN은 전치사<br>NNP는 고유 명사<br>NNS는 복수형 명사<br>CC는 접속사<br>DT는 관사"
   ]
  },
  {
   "cell_type": "code",
   "execution_count": 20,
   "metadata": {},
   "outputs": [
    {
     "name": "stdout",
     "output_type": "stream",
     "text": [
      "OKT 형태소 분석 :  ['기숙사', '를', '와도', '공부', '를', '하는', '나', '.', '불쌍하군', '!']\n",
      "OKT 품사 태깅 :  [('기숙사', 'Noun'), ('를', 'Josa'), ('와도', 'Josa'), ('공부', 'Noun'), ('를', 'Josa'), ('하는', 'Verb'), ('나', 'Noun'), ('.', 'Punctuation'), ('불쌍하군', 'Adjective'), ('!', 'Punctuation')]\n",
      "OKT 명사 추출 :  ['기숙사', '공부', '나']\n"
     ]
    }
   ],
   "source": [
    "# 한국어 형태소 분석기 Okt(Open Korea Text), 메캅(Mecab), 코모란(Komoran), 한나눔(Hannanum), 꼬꼬마(Kkma)\n",
    "# 형태소 분석기의 선택은 사용하고자 하는 필요 용도에 어떤 형태소 분석기가 가장 적절한지를 판단하고 사용\n",
    "from konlpy.tag import Okt\n",
    "from konlpy.tag import Kkma\n",
    "\n",
    "okt = Okt()\n",
    "kkma = Kkma()\n",
    "\n",
    "print('OKT 형태소 분석 : ', okt.morphs(\"기숙사를 와도 공부를 하는 나. 불쌍하군!\"))\n",
    "print('OKT 품사 태깅 : ', okt.pos(\"기숙사를 와도 공부를 하는 나. 불쌍하군!\"))\n",
    "print('OKT 명사 추출 : ', okt.nouns(\"기숙사를 와도 공부를 하는 나. 불쌍하군!\"))"
   ]
  },
  {
   "cell_type": "code",
   "execution_count": 16,
   "metadata": {},
   "outputs": [
    {
     "name": "stdout",
     "output_type": "stream",
     "text": [
      "단어 토큰화 :  ['I', 'am', 'one', 'of', 'BSSM.students', '.', 'and', 'you', 'are', 'a', 'Ph.D.', 'student', '.'] \n",
      "\n",
      "품사 태깅 :  [('I', 'PRP'), ('am', 'VBP'), ('one', 'CD'), ('of', 'IN'), ('BSSM.students', 'NNPS'), ('.', '.'), ('and', 'CC'), ('you', 'PRP'), ('are', 'VBP'), ('a', 'DT'), ('Ph.D.', 'NNP'), ('student', 'NN'), ('.', '.')]\n"
     ]
    }
   ],
   "source": [
    "# 영어\n",
    "from nltk.tokenize import word_tokenize\n",
    "from nltk.tag import pos_tag\n",
    "\n",
    "text=\"I am one of BSSM.students. and you are a Ph.D. student.\"\n",
    "tokenized_sentence = word_tokenize(text)\n",
    "\n",
    "print('단어 토큰화 : ', tokenized_sentence, '\\n')\n",
    "print('품사 태깅 : ', pos_tag(tokenized_sentence))"
   ]
  },
  {
   "cell_type": "code",
   "execution_count": 21,
   "metadata": {},
   "outputs": [
    {
     "name": "stdout",
     "output_type": "stream",
     "text": [
      "꼬꼬마 형태소 분석 : ['기숙사', '를', '와도', '공부', '를', '하', '는', '나', '.', '부', 'ㄹ', '쌍하', '군', '!']\n",
      "꼬꼬마 품사 태깅 : [('기숙사', 'NNG'), ('를', 'JKO'), ('와도', 'NNG'), ('공부', 'NNG'), ('를', 'JKO'), ('하', 'VV'), ('는', 'ETD'), ('나', 'NNG'), ('.', 'SF'), ('부', 'VV'), ('ㄹ', 'ETD'), ('쌍하', 'UN'), ('군', 'NNG'), ('!', 'SF')]\n",
      "꼬꼬마 명사 추출 : ['기숙사', '와도', '공부', '나', '쌍하', '쌍하군', '군']\n"
     ]
    }
   ],
   "source": [
    "print('꼬꼬마 형태소 분석 :',kkma.morphs(\"기숙사를 와도 공부를 하는 나. 불쌍하군!\"))\n",
    "print('꼬꼬마 품사 태깅 :',kkma.pos(\"기숙사를 와도 공부를 하는 나. 불쌍하군!\"))\n",
    "print('꼬꼬마 명사 추출 :',kkma.nouns(\"기숙사를 와도 공부를 하는 나. 불쌍하군!\")) "
   ]
  }
 ],
 "metadata": {
  "kernelspec": {
   "display_name": "Python [conda env:data_env] *",
   "language": "python",
   "name": "conda-env-data_env-py"
  },
  "language_info": {
   "codemirror_mode": {
    "name": "ipython",
    "version": 3
   },
   "file_extension": ".py",
   "mimetype": "text/x-python",
   "name": "python",
   "nbconvert_exporter": "python",
   "pygments_lexer": "ipython3",
   "version": "3.7.10"
  }
 },
 "nbformat": 4,
 "nbformat_minor": 1
}
