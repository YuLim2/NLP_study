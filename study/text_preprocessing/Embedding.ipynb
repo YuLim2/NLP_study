{
 "cells": [
  {
   "cell_type": "markdown",
   "metadata": {},
   "source": [
    "## 임베딩 Embedding\n",
    "자연어를 숫자나 벡터 형태로 변환할 필요가 있다.<br>\n",
    "단어나 문장을 수치화해 벡터 공간으로 표현하는 과정이다.<br>\n",
    "\n",
    "종류에는 단어 임베딩과 문장 임베딩이 있다.<br>"
   ]
  },
  {
   "cell_type": "markdown",
   "metadata": {},
   "source": [
    "### 단어 임베딩 - 원-핫 인코딩\n",
    "단어를 숫자 벡터로 변환하는 가장 기본적인 방법이다. <br>\n",
    "단 하나의 값만 1이고 나머지 요솟값은 0인 인코딩이다.<br>\n",
    "결과를 원-핫 벡터라고 한다.<br>"
   ]
  },
  {
   "cell_type": "code",
   "execution_count": 4,
   "metadata": {},
   "outputs": [
    {
     "name": "stdout",
     "output_type": "stream",
     "text": [
      "['오늘', '날씨', '구름']\n",
      "{'오늘': 0, '날씨': 1, '구름': 2}\n",
      "[[1. 0. 0.]\n",
      " [0. 1. 0.]\n",
      " [0. 0. 1.]]\n"
     ]
    }
   ],
   "source": [
    "from konlpy.tag import Komoran\n",
    "import numpy as np\n",
    "\n",
    "komoran = Komoran()\n",
    "text = \"오늘 날씨는 구름이 많아요.\"\n",
    "\n",
    "# 리스트형태로 명사를 추출 \n",
    "nouns = komoran.nouns(text)\n",
    "print(nouns) \n",
    "\n",
    "\n",
    "# 딕셔너리형태로 단어 사전 구축 및 단어별 인덱스 부여, 중복 제외\n",
    "dics = {}\n",
    "for word in nouns:\n",
    "    if word not in dics.keys():\n",
    "        dics[word] = len(dics)\n",
    "print(dics)\n",
    "\n",
    "# 원-핫 인코딩\n",
    "nb_classes = len(dics) # 원-핫 벡터 크기 결정\n",
    "targets = list(dics.values()) # 단어들을 리스트로 변환\n",
    "one_hot_targets = np.eye(nb_classes)[targets] # 단위행렬 반환\n",
    "print(one_hot_targets)"
   ]
  },
  {
   "cell_type": "code",
   "execution_count": null,
   "metadata": {},
   "outputs": [],
   "source": []
  }
 ],
 "metadata": {
  "kernelspec": {
   "display_name": "Python [conda env:data_env] *",
   "language": "python",
   "name": "conda-env-data_env-py"
  },
  "language_info": {
   "codemirror_mode": {
    "name": "ipython",
    "version": 3
   },
   "file_extension": ".py",
   "mimetype": "text/x-python",
   "name": "python",
   "nbconvert_exporter": "python",
   "pygments_lexer": "ipython3",
   "version": "3.7.10"
  }
 },
 "nbformat": 4,
 "nbformat_minor": 4
}
