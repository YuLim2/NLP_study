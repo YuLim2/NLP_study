{
 "cells": [
  {
   "cell_type": "markdown",
   "metadata": {},
   "source": [
    "## 한국어 토크나이저"
   ]
  },
  {
   "cell_type": "markdown",
   "metadata": {},
   "source": [
    "## KoNLPy\n",
    "가장 기본적인 라이브러리 <br>\n",
    "형태소(morpheme)를 토큰 단위로 사용 => 단어와 품사 정보를 같이 활용할 수 있음 <br>\n",
    "<a href=\"http://namu.wiki/w/품사\">9품사의 종류와 의미</a>"
   ]
  },
  {
   "cell_type": "markdown",
   "metadata": {},
   "source": [
    "### 1. Kkma\n",
    "꼬꼬마 형태소 분석기를 사용하기 위해서는 konlpy.tag 패키지의 Kkma 모듈을 불러와야 함\n",
    "\n",
    "|함수|설명|\n",
    "|:---:|:---:| \n",
    "| morphs(phrase) | 인자로 전달된 문장을 형태소 단위를 토크나이징, 리스트로 반환 |\n",
    "| nouns(phrase) | 인자로 전달된 문장에서 명사인 토큰만 추출 |\n",
    "| pos(phrase, flatten=True) | POS tagger, 형태소로 나누고 품사 태깅 후 튜플형태로 묶어서 리스트로 반환 |\n",
    "| sentences(phrase) | 인자로 전달된 여러 문장을 분리하여 리스트로 반환 |"
   ]
  },
  {
   "cell_type": "code",
   "execution_count": 2,
   "metadata": {},
   "outputs": [
    {
     "name": "stdout",
     "output_type": "stream",
     "text": [
      "형태소 :  ['아버지', '가', '방', '에', '들어가', 'ㅂ니다', '.']\n",
      "형태소와 품사 태그 :  [('아버지', 'NNG'), ('가', 'JKS'), ('방', 'NNG'), ('에', 'JKM'), ('들어가', 'VV'), ('ㅂ니다', 'EFN'), ('.', 'SF')]\n",
      "명사 :  ['아버지', '방']\n",
      "문장 분리 :  ['오늘 날씨 어 때? 내일은 좀 덥다 더 라.']\n"
     ]
    }
   ],
   "source": [
    "from konlpy.tag import Kkma\n",
    "\n",
    "# Kkma 객체 생성\n",
    "Kkma = Kkma()\n",
    "\n",
    "text=\"아버지가 방에 들어갑니다.\"\n",
    "\n",
    "# 형태소 추출\n",
    "morphs = Kkma.morphs(text)\n",
    "print(\"형태소 : \", morphs)\n",
    "\n",
    "# 형태소와 품사 태그 추출\n",
    "pos = Kkma.pos(text)\n",
    "print(\"형태소와 품사 태그 : \", pos)\n",
    "\n",
    "# 명사만 추출\n",
    "nouns = Kkma.nouns(text)\n",
    "print(\"명사 : \", nouns)\n",
    "\n",
    "# 문장 분리\n",
    "sentences = \"오늘 날씨 어때? 내일은 좀 덥다더라.\"\n",
    "sent = Kkma.sentences(sentences)\n",
    "print(\"문장 분리 : \", sent)"
   ]
  },
  {
   "cell_type": "markdown",
   "metadata": {},
   "source": [
    "### 2. Okt\n",
    "트위터에서 개발한 한국어 처리기<br>\n",
    "띄어쓰기가 어느 정도 되어 있는 문장을 빠르게 분석\n",
    "\n",
    "|함수|설명|\n",
    "|:---:|:---:| \n",
    "| morphs(phrase) | 인자로 전달된 문장을 형태소 단위를 토크나이징, 리스트로 반환 |\n",
    "| nouns(phrase) | 인자로 전달된 문장에서 명사인 토큰만 추출 |\n",
    "| pos(phrase, stem=False, join=False) | POS tagger, 형태소로 나누고 품사 태깅 후 튜플형태로 묶어서 리스트로 반환 |\n",
    "| normalize(phrase) | 인자로 전달된 문장을 정규화 |\n",
    "| phrases(phrase) | 인자로 전달된 문장에서 어구를 추출 |"
   ]
  },
  {
   "cell_type": "code",
   "execution_count": 3,
   "metadata": {},
   "outputs": [
    {
     "name": "stdout",
     "output_type": "stream",
     "text": [
      "형태소 :  ['아버지', '가', '방', '에', '들어갑니다', '.']\n",
      "형태소와 품사 태그 :  [('아버지', 'Noun'), ('가', 'Josa'), ('방', 'Noun'), ('에', 'Josa'), ('들어갑니다', 'Verb'), ('.', 'Punctuation')]\n",
      "명사 :  ['아버지', '방']\n"
     ]
    },
    {
     "ename": "NameError",
     "evalue": "name 'normailze' is not defined",
     "output_type": "error",
     "traceback": [
      "\u001b[0;31m---------------------------------------------------------------------------\u001b[0m",
      "\u001b[0;31mNameError\u001b[0m                                 Traceback (most recent call last)",
      "\u001b[0;32m<ipython-input-3-799df323cc0a>\u001b[0m in \u001b[0;36m<module>\u001b[0;34m\u001b[0m\n\u001b[1;32m     20\u001b[0m \u001b[0;31m# 정규화, 어구 추출\u001b[0m\u001b[0;34m\u001b[0m\u001b[0;34m\u001b[0m\u001b[0;34m\u001b[0m\u001b[0m\n\u001b[1;32m     21\u001b[0m \u001b[0msentences\u001b[0m \u001b[0;34m=\u001b[0m \u001b[0;34m\"오늘 날씨 개좋닼ㅋㅋ\"\u001b[0m\u001b[0;34m\u001b[0m\u001b[0;34m\u001b[0m\u001b[0m\n\u001b[0;32m---> 22\u001b[0;31m \u001b[0mprint\u001b[0m\u001b[0;34m(\u001b[0m\u001b[0;34m\"정규화 : \"\u001b[0m\u001b[0;34m,\u001b[0m \u001b[0mnormailze\u001b[0m\u001b[0;34m(\u001b[0m\u001b[0msentences\u001b[0m\u001b[0;34m)\u001b[0m\u001b[0;34m)\u001b[0m\u001b[0;34m\u001b[0m\u001b[0;34m\u001b[0m\u001b[0m\n\u001b[0m\u001b[1;32m     23\u001b[0m \u001b[0mprint\u001b[0m\u001b[0;34m(\u001b[0m\u001b[0;34m\"어구 : \"\u001b[0m\u001b[0;34m,\u001b[0m \u001b[0mphrases\u001b[0m\u001b[0;34m(\u001b[0m\u001b[0msentences\u001b[0m\u001b[0;34m)\u001b[0m\u001b[0;34m)\u001b[0m\u001b[0;34m\u001b[0m\u001b[0;34m\u001b[0m\u001b[0m\n",
      "\u001b[0;31mNameError\u001b[0m: name 'normailze' is not defined"
     ]
    }
   ],
   "source": [
    "from konlpy.tag import Okt\n",
    "\n",
    "# Kkma 객체 생성\n",
    "Okt = Okt()\n",
    "\n",
    "text=\"아버지가 방에 들어갑니다.\"\n",
    "\n",
    "# 형태소 추출\n",
    "morphs = Okt.morphs(text)\n",
    "print(\"형태소 : \", morphs)\n",
    "\n",
    "# 형태소와 품사 태그 추출\n",
    "pos = Okt.pos(text)\n",
    "print(\"형태소와 품사 태그 : \", pos)\n",
    "\n",
    "# 명사만 추출\n",
    "nouns = Okt.nouns(text)\n",
    "print(\"명사 : \", nouns)\n",
    "\n",
    "# 정규화, 어구 추출\n",
    "sentences = \"오늘 날씨 개좋닼ㅋㅋ\"\n",
    "print(\"정규화 : \", normailze(sentences))\n",
    "print(\"어구 : \", phrases(sentences))"
   ]
  },
  {
   "cell_type": "code",
   "execution_count": null,
   "metadata": {},
   "outputs": [],
   "source": []
  }
 ],
 "metadata": {
  "kernelspec": {
   "display_name": "Python 3",
   "language": "python",
   "name": "python3"
  },
  "language_info": {
   "codemirror_mode": {
    "name": "ipython",
    "version": 3
   },
   "file_extension": ".py",
   "mimetype": "text/x-python",
   "name": "python",
   "nbconvert_exporter": "python",
   "pygments_lexer": "ipython3",
   "version": "3.7.10"
  }
 },
 "nbformat": 4,
 "nbformat_minor": 4
}
