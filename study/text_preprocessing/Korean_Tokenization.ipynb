{
 "cells": [
  {
   "cell_type": "markdown",
   "metadata": {},
   "source": [
    "## 한국어 토크나이저"
   ]
  },
  {
   "cell_type": "markdown",
   "metadata": {},
   "source": [
    "## KoNLPy\n",
    "가장 기본적인 라이브러리 <br>\n",
    "형태소(morpheme)를 토큰 단위로 사용 => 단어와 품사 정보를 같이 활용할 수 있음 <br>\n",
    "<a href=\"http://namu.wiki/w/품사\">9품사의 종류와 의미</a>"
   ]
  },
  {
   "cell_type": "markdown",
   "metadata": {},
   "source": [
    "### 1. Kkma\n",
    "꼬꼬마 형태소 분석기를 사용하기 위해서는 konlpy.tag 패키지의 Kkma 모듈을 불러와야 함\n",
    "\n",
    "|함수|설명|\n",
    "|:---:|:---:| \n",
    "| morphs(phrase) | 인자로 전달된 문장을 형태소 단위를 토크나이징, 리스트로 반환 |\n",
    "| nouns(phrase) | 인자로 전달된 문장에서 명사인 토큰만 추출 |\n",
    "| pos(phrase, flatten=True) | POS tagger, 형태소로 나누고 품사 태깅 후 튜플형태로 묶어서 리스트로 반환 |\n",
    "| sentences(phrase) | 인자로 전달된 여러 문장을 분리하여 리스트로 반환 |"
   ]
  },
  {
   "cell_type": "code",
   "execution_count": 2,
   "metadata": {},
   "outputs": [
    {
     "name": "stdout",
     "output_type": "stream",
     "text": [
      "형태소 :  ['아버지', '가', '방', '에', '들어가', 'ㅂ니다', '.']\n",
      "형태소와 품사 태그 :  [('아버지', 'NNG'), ('가', 'JKS'), ('방', 'NNG'), ('에', 'JKM'), ('들어가', 'VV'), ('ㅂ니다', 'EFN'), ('.', 'SF')]\n",
      "명사 :  ['아버지', '방']\n",
      "문장 분리 :  ['오늘 날씨 어 때? 내일은 좀 덥다 더 라.']\n"
     ]
    }
   ],
   "source": [
    "from konlpy.tag import Kkma\n",
    "\n",
    "# Kkma 객체 생성\n",
    "Kkma = Kkma()\n",
    "\n",
    "text=\"아버지가 방에 들어갑니다.\"\n",
    "\n",
    "# 형태소 추출\n",
    "morphs = Kkma.morphs(text)\n",
    "print(\"형태소 : \", morphs)\n",
    "\n",
    "# 형태소와 품사 태그 추출\n",
    "pos = Kkma.pos(text)\n",
    "print(\"형태소와 품사 태그 : \", pos)\n",
    "\n",
    "# 명사만 추출\n",
    "nouns = Kkma.nouns(text)\n",
    "print(\"명사 : \", nouns)\n",
    "\n",
    "# 문장 분리\n",
    "sentences = \"오늘 날씨 어때? 내일은 좀 덥다더라.\"\n",
    "sent = Kkma.sentences(sentences)\n",
    "print(\"문장 분리 : \", sent)"
   ]
  },
  {
   "cell_type": "markdown",
   "metadata": {},
   "source": [
    "### 2. Okt\n",
    "트위터에서 개발한 한국어 처리기<br>\n",
    "띄어쓰기가 어느 정도 되어 있는 문장을 빠르게 분석\n",
    "\n",
    "|함수|설명|\n",
    "|:---:|:---:| \n",
    "| morphs(phrase) | 인자로 전달된 문장을 형태소 단위를 토크나이징, 리스트로 반환 |\n",
    "| nouns(phrase) | 인자로 전달된 문장에서 명사인 토큰만 추출 |\n",
    "| pos(phrase, stem=False, join=False) | POS tagger, 형태소로 나누고 품사 태깅 후 튜플형태로 묶어서 리스트로 반환 |\n",
    "| normalize(phrase) | 인자로 전달된 문장을 정규화 |\n",
    "| phrases(phrase) | 인자로 전달된 문장에서 어구를 추출 |"
   ]
  },
  {
   "cell_type": "code",
   "execution_count": 6,
   "metadata": {},
   "outputs": [
    {
     "name": "stdout",
     "output_type": "stream",
     "text": [
      "형태소 :  ['아버지', '가', '방', '에', '들어갑니다', '.']\n",
      "형태소와 품사 태그 :  [('아버지', 'Noun'), ('가', 'Josa'), ('방', 'Noun'), ('에', 'Josa'), ('들어갑니다', 'Verb'), ('.', 'Punctuation')]\n",
      "명사 :  ['아버지', '방']\n",
      "정규화 :  오늘 날씨 개좋다ㅋㅋ\n",
      "어구 :  ['오늘', '오늘 날씨', '오늘 날씨 개좋닼', '날씨', '개좋닼']\n"
     ]
    }
   ],
   "source": [
    "from konlpy.tag import Okt\n",
    "\n",
    "# Kkma 객체 생성\n",
    "Okt = Okt()\n",
    "\n",
    "text=\"아버지가 방에 들어갑니다.\"\n",
    "\n",
    "# 형태소 추출\n",
    "morphs = Okt.morphs(text)\n",
    "print(\"형태소 : \", morphs)\n",
    "\n",
    "# 형태소와 품사 태그 추출\n",
    "pos = Okt.pos(text)\n",
    "print(\"형태소와 품사 태그 : \", pos)\n",
    "\n",
    "# 명사만 추출\n",
    "nouns = Okt.nouns(text)\n",
    "print(\"명사 : \", nouns)\n",
    "\n",
    "# 정규화, 어구 추출\n",
    "sentences = \"오늘 날씨 개좋닼ㅋㅋ\"\n",
    "print(\"정규화 : \", Okt.normalize(sentences))\n",
    "print(\"어구 : \", Okt.phrases(sentences))"
   ]
  },
  {
   "cell_type": "markdown",
   "metadata": {},
   "source": [
    "## 사용자 사전 구축\n",
    "새로운 형태의 단어와 문장은 인식률 저하의 원인이 된다.<br>\n",
    "형태소 분석기에서 인식하지 못하는 단어들을 직접 추가하는 방법"
   ]
  },
  {
   "cell_type": "code",
   "execution_count": 7,
   "metadata": {},
   "outputs": [
    {
     "name": "stdout",
     "output_type": "stream",
     "text": [
      "[('우리', 'NP'), ('챗봇은', 'NA'), ('엔', 'NNB'), ('엘', 'NNP'), ('피', 'NNG'), ('를', 'JKO'), ('좋아하', 'VV'), ('아', 'EF'), ('.', 'SF')]\n"
     ]
    }
   ],
   "source": [
    "from konlpy.tag import Komoran\n",
    "\n",
    "komoran = Komoran()\n",
    "text = \"우리 챗봇은 엔엘피를 좋아해.\"\n",
    "pos = komoran.pos(text)\n",
    "print(pos)"
   ]
  },
  {
   "cell_type": "code",
   "execution_count": 8,
   "metadata": {},
   "outputs": [
    {
     "name": "stdout",
     "output_type": "stream",
     "text": [
      "[('우리', 'NP'), ('챗봇은', 'NA'), ('엔', 'NNB'), ('엘', 'NNP'), ('피', 'NNG'), ('를', 'JKO'), ('좋아하', 'VV'), ('아', 'EF'), ('.', 'SF')]\n"
     ]
    }
   ],
   "source": [
    "from konlpy.tag import Komoran\n",
    "\n",
    "komoran = Komoran(userdic='./dic.text')\n",
    "text = \"우리 챗봇은 엔엘피를 좋아해.\"\n",
    "pos = komoran.pos(text)\n",
    "print(pos)"
   ]
  },
  {
   "cell_type": "markdown",
   "metadata": {},
   "source": [
    "## KoNLPy 형태소 분석기 비교\n",
    "\n",
    "|형태소 분석기|장점|단점|\n",
    "|:---:|:---:|:---:| \n",
    "| Kkma | 분석 품질이 좋고 지원하는 품사 태그가 가장 많음 | 속도가 느리고 사용자 사전으로 추가한 명사에 대해 불완전하게 동작 |\n",
    "| Komoran | 자소가 분리된 문장이나 오탈자에 강하고 사용자 사전 관리 용이 | 적당한 분석 품질과 분석 속도 |\n",
    "| Okt | 매우 빠른 분석 속도와 정규화 기능 지원 | 시용지 시잔 관리 어렵고 용언 분석ㅇ |"
   ]
  }
 ],
 "metadata": {
  "kernelspec": {
   "display_name": "Python 3",
   "language": "python",
   "name": "python3"
  },
  "language_info": {
   "codemirror_mode": {
    "name": "ipython",
    "version": 3
   },
   "file_extension": ".py",
   "mimetype": "text/x-python",
   "name": "python",
   "nbconvert_exporter": "python",
   "pygments_lexer": "ipython3",
   "version": "3.7.10"
  }
 },
 "nbformat": 4,
 "nbformat_minor": 4
}
