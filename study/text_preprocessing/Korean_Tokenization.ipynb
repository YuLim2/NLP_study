{
 "cells": [
  {
   "cell_type": "markdown",
   "metadata": {},
   "source": [
    "## 한국어 토크나이저"
   ]
  },
  {
   "cell_type": "markdown",
   "metadata": {},
   "source": [
    "## KoNLPy\n",
    "가장 기본적인 라이브러리 <br>\n",
    "형태소(morpheme)를 토큰 단위로 사용 => 단어와 품사 정보를 같이 활용할 수 있음 <br>\n",
    "<a href=\"http://namu.wiki/w/품사\">9품사의 종류와 의미</a>"
   ]
  },
  {
   "cell_type": "markdown",
   "metadata": {},
   "source": [
    "### 1. Kkma\n",
    "꼬꼬마 형태소 분석기를 사용하기 위해서는 konlpy.tag 패키지의 Kkma 모듈을 불러와야 함\n",
    "\n",
    "|함수|설명|\n",
    "|:---:|:---:| \n",
    "| morphs(phrase) | 인자로 전달된 문장을 형태소 단위를 토크나이징, 리스트로 반환 |\n",
    "| nouns(phrase) | 인자로 전달된 문장에서 명사인 토큰만 추출 |\n",
    "| pos(phrase, flatten=True) | POS tagger, 형태소로 나누고 품사 태깅 후 튜플형태로 묶어서 리스트로 반환 |\n",
    "| sentences(phrase) | 인자로 전달된 여러 문장을 분리하여 리스트로 반환 |"
   ]
  },
  {
   "cell_type": "code",
   "execution_count": null,
   "metadata": {},
   "outputs": [],
   "source": [
    "from konlpy.tag import Kkma\n",
    "\n",
    "# Kkma 객체 생성\n",
    "Kkma = Kkma()\n",
    "\n",
    "text=\"아버지가 방에 들어갑니다.\"\n",
    "\n",
    "# 형태소 추출\n",
    "morphs = Kkma.morphs(text)\n",
    "print(\"형태소 : \", morphs)\n",
    "\n",
    "# 형태소와 품사 태그 추출\n",
    "pos = Kkma.pos(text)\n",
    "print(\"형태소와 품사 태그 : \", pos)\n",
    "\n",
    "# 명사만 추출\n",
    "nouns = Kkma.nouns(text)\n",
    "print(\"명사 : \", nouns)\n",
    "\n",
    "# 문장 분리s\n",
    "sentences = \"오늘 날씨 어때? 내일은 좀 덥다더라.\"\n",
    "sent = Kkma.sentences(sentences)\n",
    "print(\"문장 분리 : \", sent)"
   ]
  },
  {
   "cell_type": "code",
   "execution_count": null,
   "metadata": {},
   "outputs": [],
   "source": []
  }
 ],
 "metadata": {
  "kernelspec": {
   "display_name": "Python 3",
   "language": "python",
   "name": "python3"
  },
  "language_info": {
   "codemirror_mode": {
    "name": "ipython",
    "version": 3
   },
   "file_extension": ".py",
   "mimetype": "text/x-python",
   "name": "python",
   "nbconvert_exporter": "python",
   "pygments_lexer": "ipython3",
   "version": "3.7.10"
  }
 },
 "nbformat": 4,
 "nbformat_minor": 4
}
