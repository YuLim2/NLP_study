{
 "cells": [
  {
   "cell_type": "markdown",
   "metadata": {},
   "source": [
    "## 정규 표현식(Regular Expression)\n",
    "텍스트 전처리에서 정규 표현식은 아주 유용한 도구"
   ]
  },
  {
   "cell_type": "markdown",
   "metadata": {},
   "source": [
    "### 1. 정규 표현식 문법과 모듈 함수\n",
    "\n",
    "1. 정규 표현식 문법\n",
    "|특수문자|설명|\n",
    "|:---:|:---:|\n",
    "| . |한개의 임의의 문자를 나타냄|\n",
    "| ? |앞에 문자 존재 여부(문자가 0개 또는 1개)|\n",
    "| * |앞에 문자 무한개 존재 여부(문자가 0개 이상)|\n",
    "| + |앞의 문자가 최소 한 개 이상 존재|\n",
    "| ^ |뒤의 문자열로 문자열 시작|\n",
    "| $ |앞의 문자열로 문자열 끝남|\n",
    "| {숫자} |숫자만큼 반복|\n",
    "|{숫자1, 숫자2} |숫자1 이상 숫자2 이하만큼 반복|\n",
    "| {숫자, } |숫자 이상만큼 반복|\n",
    "| [] |대괄호 안의 문자들 중 한 개의 문자와 매치|\n",
    "| [^문자] |해당 문자를 제외한 문자를 매치|]\n",
    "\n",
    "<br>\n",
    "\n",
    "|문자 규칙|설명|\n",
    "|:---:|:---:|\n",
    "| \\ |문자 자체를 의미|\n",
    "| \\d |모든 숫자를 의미 [0~9]와 동일|\n",
    "| \\D |숫자를 제외한 모든 문자를 의미 [^0~9]와 동일|\n",
    "| \\s |공백을 의미 [\\t\\n\\r\\f\\v]와 동일|\n",
    "| \\S |공백을 의미 [^\\t\\n\\r\\f\\v]와 동일|\n",
    "| \\w |문자 또는 숫자를 의미 [a-zA-Z0-9]와 동일|\n",
    "| \\W |문자 또는 숫자를 의미 [^a-zA-Z0-9]와 동일|\n",
    "\n",
    "2. 정규표현식 모듈 함수\n",
    "\n",
    "|모듈 함수|설명|\n",
    "|:---:|:---:|\n",
    "| re.compile() |정규표현식을 컴파일 하는 함수|\n",
    "| re.search() |문자열 전체에 대하여 정규표현식과 매치되는지 확인|\n",
    "| re.match() |문자열 처음이 정규표현식과 매치되는지를 검색|\n",
    "| re.split() |정규표현식을 기준으로 문자열을 분리하여 리스트로 리턴|\n",
    "| re.findall() |문자열에서 정규표현식과 매치되는 문자열들을 찾아 리스트로 리턴|\n",
    "| re.finditer() |문자열에서 정규표현식과 매치되는 문자열들의 이터레이터 객체를 리턴|\n",
    "| re.sub() |문자열에서 정규 표현식과 일치하는 부분에 대해서 다른 문자열로 대체|"
   ]
  },
  {
   "cell_type": "markdown",
   "metadata": {},
   "source": [
    "### 2. 정규표현식을 이용한 토큰화"
   ]
  },
  {
   "cell_type": "code",
   "execution_count": 16,
   "metadata": {},
   "outputs": [
    {
     "name": "stdout",
     "output_type": "stream",
     "text": [
      "['Don', 't', 'be', 'fooled', 'by', 'the', 'dark', 'sounding', 'name', 'Mr', 'Jone', 's', 'Orphanage', 'is', 'as', 'cheery', 'as', 'cheery', 'goes', 'for', 'a', 'pastry', 'shop']\n",
      "[\"Don't\", 'be', 'fooled', 'by', 'the', 'dark', 'sounding', 'name,', 'Mr.', \"Jone's\", 'Orphanage', 'is', 'as', 'cheery', 'as', 'cheery', 'goes', 'for', 'a', 'pastry', 'shop']\n"
     ]
    }
   ],
   "source": [
    "# NLTK에서 정규표현식을 사용하여 단어 토큰화를 수행하는 RegexpTokenizer을 지원\n",
    "from nltk.tokenize import RegexpTokenizer\n",
    "\n",
    "text = \"Don't be fooled by the dark sounding name, Mr. Jone's Orphanage is as cheery as cheery goes for a pastry shop\"\n",
    "\n",
    "tokenizer1 = RegexpTokenizer(\"[\\w]+\")\n",
    "tokenizer2 = RegexpTokenizer(\"\\s+\", gaps=True)\n",
    "\n",
    "print(tokenizer1.tokenize(text))\n",
    "print(tokenizer2.tokenize(text))"
   ]
  }
 ],
 "metadata": {
  "kernelspec": {
   "display_name": "Python [conda env:data_env] *",
   "language": "python",
   "name": "conda-env-data_env-py"
  },
  "language_info": {
   "codemirror_mode": {
    "name": "ipython",
    "version": 3
   },
   "file_extension": ".py",
   "mimetype": "text/x-python",
   "name": "python",
   "nbconvert_exporter": "python",
   "pygments_lexer": "ipython3",
   "version": "3.7.10"
  }
 },
 "nbformat": 4,
 "nbformat_minor": 4
}
