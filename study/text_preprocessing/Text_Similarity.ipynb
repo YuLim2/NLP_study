{
 "cells": [
  {
   "cell_type": "markdown",
   "metadata": {},
   "source": [
    "## 텍스트 유사도 Text Similarity\n",
    "문장간의 의미 유사도를 계산하는 일은 매우 중요<br>\n",
    "임베딩을 통해 단어들의 벡터를 구한 다음 벡터간의 거리를 계산하는 방법으로 유사도를 구함<br>\n",
    "\n",
    "> 챗봇 엔진에 입력되는 문장과 시스템에서 해당 주제의 답변과 연관되어 있는 질문이 얼마나 유사한지 계산할 수 있어야 적절한 답변 출력 가능 <br>\n",
    "Word2Vec은 인공 신경망을 이용했고 이번에는 통계적인 방법을 사용할 것 <br>\n",
    "상황에 따라 방법에 따라 책봇 엔진 성능 향상이 달라진다."
   ]
  },
  {
   "cell_type": "markdown",
   "metadata": {},
   "source": [
    "### n-gram 유사도\n",
    "주어진 문장 n 개의 연속적인 단어 시권스를 의미<br>\n",
    "n-gram은 문장에서 n개의 단어를 토큰으로 사용<br>\n",
    "n-gram으로 비교하면 단어의 출현 빈도에 기반한 유사도 계산 가능\n",
    "- 인용, 도용 조사할 때 사용\n",
    "\n",
    "___\n",
    "\n",
    "\n",
    "n = 1: 유니그램 unigram<br>\n",
    "n = 2: 바이그램 bigram<br>\n",
    "n = 3: 트라이그램 trigram<br>\n",
    "n >= 4: n-그램 n-gram\n",
    "\n",
    "___\n",
    "\n",
    "similarity = tf(A, B)/tokens(A)\n",
    "\n",
    "tf: A, B에서 동일한 토큰의 출현 빈도<br>\n",
    "tokens: 해당 문장에서 전체 토큰 수"
   ]
  },
  {
   "cell_type": "code",
   "execution_count": 5,
   "metadata": {},
   "outputs": [
    {
     "name": "stdout",
     "output_type": "stream",
     "text": [
      "(('3월', '니체'), ('니체', '친구'), ('친구', '제안'), ('제안', '트리니티'), ('트리니티', '입학'), ('입학',))\n",
      "(('3월', '니체'), ('니체', '친구'), ('친구', '제안'), ('제안', '대학교'), ('대학교', '입학'), ('입학',))\n",
      "0.6666666666666666\n",
      "0.0\n"
     ]
    }
   ],
   "source": [
    "from konlpy.tag import Komoran\n",
    "\n",
    "# 어절 단위로 n-gram 토큰 추출\n",
    "def word_ngram(bow, num_gram):\n",
    "    text = tuple(bow)\n",
    "    ngrams = [text[x:x + num_gram] for x in range(0, len(text))]\n",
    "    return tuple(ngrams)\n",
    "\n",
    "# 유사도 계산\n",
    "def similarity(doc1, doc2):\n",
    "    cnt = 0\n",
    "    for token in doc1:\n",
    "        if token in doc2:\n",
    "            cnt = cnt + 1\n",
    "    return cnt/len(doc1)\n",
    "\n",
    "# 문장 정의\n",
    "sentence1 = '3월에 니체는 친구의 제안으로 트리니티에 입학했다.'\n",
    "sentence2 = '3월에 니체는 친구의 제안으로 대학교에 입학했다.'\n",
    "sentence3 = '나는 맛있는 밥을 친구와 함께 먹었다.'\n",
    "\n",
    "# 형태소 분석기에서 명사(단어) 추출\n",
    "komoran = Komoran()\n",
    "bow1 = komoran.nouns(sentence1)\n",
    "bow2 = komoran.nouns(sentence2)\n",
    "bow3 = komoran.nouns(sentence3)\n",
    "\n",
    "# 단어 n-gram 토큰 추출\n",
    "doc1 = word_ngram(bow1, 2)\n",
    "doc2 = word_ngram(bow2, 2)\n",
    "doc3 = word_ngram(bow3, 2)\n",
    "\n",
    "# 추출된 n-gram 토큰 출력\n",
    "print(doc1)\n",
    "print(doc2)\n",
    "\n",
    "# 유사도 계산\n",
    "r1 = similarity(doc1, doc2)\n",
    "r2 = similarity(doc3, doc1)\n",
    "\n",
    "# 계산된 유사도 출력\n",
    "print(r1)\n",
    "print(r2)"
   ]
  },
  {
   "cell_type": "markdown",
   "metadata": {},
   "source": [
    "n-gram은 모든 단어의 출현 빈도를 확인하는 것이 아닌 연속되는 문장에서 일부 단어(n만큼) 확인하여,<br>\n",
    "전체 문장을 고려한 언어 모델보다 정확도가 떨어질 수 있다.<br>\n",
    "\n",
    "또한 n을 크게 잡을 경우 비교 문장의 토큰솨 비교할 때 카운트롤 놓치 확률도 커지고, <br>\n",
    "n을 작게 잡을 경우 카운트 확률은 높아지지만 문맥을 파악하는 정확도는 낮아지는 구조이다.<br>\n",
    "\n",
    "> n-gram 모델에서 n의 설정은 매우 중요하다."
   ]
  },
  {
   "cell_type": "markdown",
   "metadata": {},
   "source": [
    "### 코사인 유사도\n",
    "두 벡터 간 코사인 각도를 이용해 유사도를 측정하는 방법 <br>\n",
    "벡터의 크기가 중요하지 않을 때 거리를 측정하기 위하여 사용<br>\n",
    "출현 빈도로 계산시 동일한 단\n",
    "어가 많이 포함되어 있을수록 벡터의 크기가 커지고, 코사인 유사도는 크기와 상관없이 안정적이다.<br>\n"
   ]
  },
  {
   "cell_type": "code",
   "execution_count": 6,
   "metadata": {},
   "outputs": [
    {
     "name": "stdout",
     "output_type": "stream",
     "text": [
      "{'3월': 1, '니체': 1, '친구': 1, '제안': 1, '트리니티': 1, '입학': 1, '대학교': 0, '밥': 0}\n",
      "{'3월': 1, '니체': 1, '친구': 1, '제안': 1, '트리니티': 0, '입학': 1, '대학교': 1, '밥': 0}\n",
      "{'3월': 0, '니체': 0, '친구': 1, '제안': 0, '트리니티': 0, '입학': 0, '대학교': 0, '밥': 1}\n",
      "[[0.16666667 0.16666667 0.16666667 0.16666667 0.16666667 0.16666667\n",
      "  0.         0.        ]\n",
      " [0.16666667 0.16666667 0.16666667 0.16666667 0.         0.16666667\n",
      "  0.16666667 0.        ]]\n",
      "[[0.         0.         0.28867513 0.         0.         0.\n",
      "  0.         0.28867513]\n",
      " [0.28867513 0.28867513 0.28867513 0.28867513 0.28867513 0.28867513\n",
      "  0.         0.        ]]\n"
     ]
    }
   ],
   "source": [
    "from konlpy.tag import Komoran\n",
    "import numpy as np\n",
    "from numpy import dot # numpy array를 곱할 때 사용\n",
    "from numpy.linalg import norm\n",
    "\n",
    "# 코사인 유사도 계산\n",
    "def cos_sim(vec1, vec2):\n",
    "    return(vec1, vec2) / (norm(vec1) * norm(vec2))\n",
    "\n",
    "# TDM(단어 문서 행렬) 만들기\n",
    "def make_term_doc_mat(sentence_bow, word_dics):\n",
    "    freq_mat = {}\n",
    "    \n",
    "    for word in word_dics:\n",
    "        freq_mat[word] = 0\n",
    "        \n",
    "    for word in word_dics:\n",
    "        if word in sentence_bow:\n",
    "            freq_mat[word] += 1\n",
    "            \n",
    "    return freq_mat\n",
    "\n",
    "# 단어 벡터 만들기\n",
    "def make_vector(tdm):\n",
    "    vec = []\n",
    "    for key in tdm:\n",
    "        vec.append(tdm[key])\n",
    "    return vec\n",
    "\n",
    "# 문장 정의\n",
    "sentence1 = '3월에 니체는 친구의 제안으로 트리니티에 입학했다.'\n",
    "sentence2 = '3월에 니체는 친구의 제안으로 대학교에 입학했다.'\n",
    "sentence3 = '나는 맛있는 밥을 친구와 함께 먹었다.'\n",
    "\n",
    "# 형태소 분석기를 이용해 단어 묶음 리스트 생성\n",
    "komoran = Komoran()\n",
    "bow1 = komoran.nouns(sentence1)\n",
    "bow2 = komoran.nouns(sentence2)\n",
    "bow3 = komoran.nouns(sentence3)\n",
    "\n",
    "# 단어 묶음 리스트를 하나로 합침\n",
    "bow = bow1 + bow2 + bow3\n",
    "\n",
    "# 단어 묶음에서 중복을 제거해 단어 사전 구축\n",
    "word_dics = []\n",
    "for token in bow:\n",
    "    if token not in word_dics:\n",
    "        word_dics.append(token)\n",
    "        \n",
    "# 문장별 단어 문서 행렬 계산\n",
    "freq_list1 = make_term_doc_mat(bow1, word_dics)\n",
    "freq_list2 = make_term_doc_mat(bow2, word_dics)\n",
    "freq_list3 = make_term_doc_mat(bow3, word_dics)\n",
    "print(freq_list1)\n",
    "print(freq_list2)\n",
    "print(freq_list3)\n",
    "\n",
    "# 문장 벡터 생성\n",
    "doc1 = np.array(make_vector(freq_list1))\n",
    "doc2 = np.array(make_vector(freq_list2))\n",
    "doc3 = np.array(make_vector(freq_list3))\n",
    "\n",
    "# 코사인 유사도 계산\n",
    "r1 = cos_sim(doc1, doc2)\n",
    "r2 = cos_sim(doc3, doc1)\n",
    "print(r1)\n",
    "print(r2)"
   ]
  },
  {
   "cell_type": "markdown",
   "metadata": {},
   "source": [
    "자연어 처리 과정\n",
    "1. 토크나이징\n",
    "2. 임베딩\n",
    "3. 유사도 계산"
   ]
  }
 ],
 "metadata": {
  "kernelspec": {
   "display_name": "Python [conda env:data_env] *",
   "language": "python",
   "name": "conda-env-data_env-py"
  },
  "language_info": {
   "codemirror_mode": {
    "name": "ipython",
    "version": 3
   },
   "file_extension": ".py",
   "mimetype": "text/x-python",
   "name": "python",
   "nbconvert_exporter": "python",
   "pygments_lexer": "ipython3",
   "version": "3.7.10"
  }
 },
 "nbformat": 4,
 "nbformat_minor": 4
}
